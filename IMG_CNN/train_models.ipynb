{
 "cells": [
  {
   "cell_type": "markdown",
   "metadata": {},
   "source": [
    "# Examples of training the CNN using the images with stratified 5-fold cross validation  using a random 20% from each class\n"
   ]
  },
  {
   "cell_type": "markdown",
   "metadata": {},
   "source": [
    "## requires fastai version 0.7"
   ]
  },
  {
   "cell_type": "markdown",
   "metadata": {},
   "source": [
    "#### Install instructions here: https://forums.fast.ai/t/fastai-v0-7-install-issues-thread/24652"
   ]
  },
  {
   "cell_type": "code",
   "execution_count": null,
   "metadata": {},
   "outputs": [],
   "source": [
    "import matplotlib.pyplot as plt\n",
    "%reload_ext autoreload\n",
    "%autoreload 2\n",
    "%matplotlib inline\n",
    "from fastai.imports import *\n",
    "from fastai.torch_imports import *\n",
    "from fastai.transforms import *\n",
    "from fastai.conv_learner import *\n",
    "from fastai.model import *\n",
    "from fastai.dataset import *\n",
    "from fastai.sgdr import *\n",
    "from fastai.plots import *\n",
    "from random import sample\n",
    "from itertools import chain\n",
    "from sklearn.metrics import confusion_matrix\n",
    "from itertools import chain\n",
    "from random import sample\n"
   ]
  },
  {
   "cell_type": "markdown",
   "metadata": {},
   "source": [
    "#### set some variables and set your GPU if you have multiple"
   ]
  },
  {
   "cell_type": "code",
   "execution_count": 15,
   "metadata": {},
   "outputs": [],
   "source": [
    "torch.cuda.set_device(0)   ### use first GPU if you have many\n",
    "PATH = \"data/data_rmsalt_rmol2/pics/\" ### path to where your pictures are downloaded and the .csv files with val sets\n",
    "sz = 224  ### resize images to this px by px\n",
    "arch = resnext101_64  ### pre-trained network choice\n",
    "bs = 200   ### batch size for minibatches"
   ]
  },
  {
   "cell_type": "markdown",
   "metadata": {},
   "source": [
    "## functions\n"
   ]
  },
  {
   "cell_type": "code",
   "execution_count": null,
   "metadata": {},
   "outputs": [],
   "source": [
    "\n",
    "def get_val_cv_byclass(label_csv):\n",
    "    label_df = pd.read_csv(label_csv)\n",
    "    val_idxs = []\n",
    "    for x in label_df['class'].unique(): ### should be class but reversed column labels\n",
    "        start= label_df.index[label_df['class'] == x].tolist()[0]\n",
    "        end = start+len(label_df.index[label_df['class'] == x].tolist())-1\n",
    "        n_sample= int(round((end-start)*0.2,0))\n",
    "        val_idxs.append(random.sample(range(start,end),n_sample))\n",
    "    val_idxs = list(chain.from_iterable(val_idxs))\n",
    "    return val_idxs\n",
    "\n",
    "def get_val_idx_fromfile(validx_csv):\n",
    "    validx_df =pd.read_csv(validx_csv, header=None)\n",
    "    return validx_df[0].tolist()\n",
    "    \n",
    "def get_data(sz, bs, val_idxs, label_csv): # sz: image size, bs: batch size\n",
    "    tfms = tfms_from_model(arch, sz, aug_tfms=transforms_top_down, max_zoom=1.1)\n",
    "    data = ImageClassifierData.from_csv(PATH, 'train', label_csv,\n",
    "                                       val_idxs=val_idxs, suffix='.png', tfms=tfms, bs=bs, num_workers=3)\n",
    "    return data if sz > 300 else data.resize(340, 'tmp')\n"
   ]
  },
  {
   "cell_type": "markdown",
   "metadata": {},
   "source": [
    "### 3-class, 5-fold cross validation, no data augmentation, precomputed activations"
   ]
  },
  {
   "cell_type": "code",
   "execution_count": null,
   "metadata": {
    "scrolled": true
   },
   "outputs": [],
   "source": [
    "label_csv = f'{PATH}3cls_rmsaltol.csv'\n",
    "#n = len(list(open(label_csv))) - 1\n",
    "vacc =[]\n",
    "reps=5\n",
    "start=0\n",
    "bs=200\n",
    "valididx_base = '3cls_val_ids'\n",
    "\n",
    "for rep in range(reps):\n",
    "    print(rep+start)\n",
    "    val_idxs = get_val_idx_fromfile(f'{PATH}'+valididx_base+str(rep+start)+'.csv')\n",
    "    data = get_data(sz, bs, val_idxs, label_csv)\n",
    "    learn = ConvLearner.pretrained(arch, data, precompute=True)\n",
    "    val_loss, val_acc = learn.fit(1e-2, 10, cycle_len=1, cycle_mult=2)\n",
    "    vacc.append(val_acc)\n",
    "print('3 class average, cyclic learning')\n",
    "print(np.mean(vacc))\n",
    "print(np.std(vacc))"
   ]
  },
  {
   "cell_type": "code",
   "execution_count": 10,
   "metadata": {},
   "outputs": [
    {
     "name": "stdout",
     "output_type": "stream",
     "text": [
      "[[0.85 0.03 0.12]                            \n",
      " [0.11 0.68 0.2 ]\n",
      " [0.08 0.07 0.85]]\n"
     ]
    },
    {
     "data": {
      "image/png": "[encoded data removed]",
      "text/plain": [
       "<Figure size 360x360 with 2 Axes>"
      ]
     },
     "metadata": {
      "needs_background": "light"
     },
     "output_type": "display_data"
    }
   ],
   "source": [
    "### plot confusion matrix showing per-class predictions\n",
    "plt.rcParams['figure.figsize'] = [5, 5] ### size of the picture\n",
    "log_preds,y = learn.TTA()  ### perform predictions and save the output\n",
    "probs = np.mean(np.exp(log_preds),0)\n",
    "preds = np.argmax(probs, axis=1)\n",
    "probs = probs[:,1]\n",
    "cm = confusion_matrix(y, preds)\n",
    "adj = cm.transpose()/cm.sum(axis=1)\n",
    "adj = adj.round(2)\n",
    "plot_confusion_matrix(adj.transpose(), data.classes)"
   ]
  },
  {
   "cell_type": "markdown",
   "metadata": {},
   "source": [
    "### 5-class, 5-fold cross validation, no data augmentation, precomputed activations"
   ]
  },
  {
   "cell_type": "code",
   "execution_count": null,
   "metadata": {
    "scrolled": true
   },
   "outputs": [],
   "source": [
    "label_csv = f'{PATH}5cls_rmsaltol.csv'\n",
    "#n = len(list(open(label_csv))) - 1\n",
    "vacc =[]\n",
    "reps=5\n",
    "start=0\n",
    "bs=200\n",
    "valididx_base = '5cls_val_ids'\n",
    "\n",
    "for rep in range(reps):\n",
    "    print(rep+start)\n",
    "    val_idxs = get_val_idx_fromfile(f'{PATH}'+valididx_base+str(rep+start)+'.csv')\n",
    "    data = get_data(sz, bs, val_idxs, label_csv)\n",
    "    learn = ConvLearner.pretrained(arch, data, precompute=True)\n",
    "    val_loss, val_acc = learn.fit(1e-2, 10, cycle_len=1, cycle_mult=2)\n",
    "    vacc.append(val_acc)\n",
    "print('5 class average, cyclic learning')\n",
    "print(np.mean(vacc))\n",
    "print(np.std(vacc))"
   ]
  },
  {
   "cell_type": "code",
   "execution_count": 12,
   "metadata": {},
   "outputs": [
    {
     "name": "stdout",
     "output_type": "stream",
     "text": [
      "[[0.88 0.05 0.03 0.04 0.01]                  \n",
      " [0.17 0.72 0.04 0.05 0.02]\n",
      " [0.1  0.06 0.71 0.12 0.01]\n",
      " [0.1  0.06 0.07 0.75 0.02]\n",
      " [0.16 0.08 0.06 0.08 0.63]]\n"
     ]
    },
    {
     "data": {
      "image/png": "[encoded data removed]",
      "text/plain": [
       "<Figure size 360x360 with 2 Axes>"
      ]
     },
     "metadata": {
      "needs_background": "light"
     },
     "output_type": "display_data"
    }
   ],
   "source": [
    "#### plot confusion matrix\n",
    "plt.rcParams['figure.figsize'] = [5, 5]\n",
    "log_preds,y = learn.TTA()\n",
    "probs = np.mean(np.exp(log_preds),0)\n",
    "preds = np.argmax(probs, axis=1)\n",
    "probs = probs[:,1]\n",
    "cm = confusion_matrix(y, preds)\n",
    "adj = cm.transpose()/cm.sum(axis=1)\n",
    "adj = adj.round(2)\n",
    "plot_confusion_matrix(adj.transpose(), data.classes)"
   ]
  },
  {
   "cell_type": "markdown",
   "metadata": {},
   "source": [
    "### 12-class, 5-fold cross validation, no data augmentation, precomputed activations"
   ]
  },
  {
   "cell_type": "code",
   "execution_count": 13,
   "metadata": {},
   "outputs": [
    {
     "name": "stdout",
     "output_type": "stream",
     "text": [
      "0\n"
     ]
    },
    {
     "data": {
      "application/vnd.jupyter.widget-view+json": {
       "model_id": "9e3139ab62864993baee28cb3f9625a8",
       "version_major": 2,
       "version_minor": 0
      },
      "text/plain": [
       "HBox(children=(IntProgress(value=0, max=6), HTML(value='')))"
      ]
     },
     "metadata": {},
     "output_type": "display_data"
    },
    {
     "name": "stdout",
     "output_type": "stream",
     "text": [
      "\n",
      "100%|██████████| 28/28 [00:45<00:00,  1.53s/it]\n",
      "100%|██████████| 7/7 [00:11<00:00,  1.67s/it]\n"
     ]
    },
    {
     "data": {
      "application/vnd.jupyter.widget-view+json": {
       "model_id": "6d82e42df6aa4f909e20e5081f7f3743",
       "version_major": 2,
       "version_minor": 0
      },
      "text/plain": [
       "HBox(children=(IntProgress(value=0, description='Epoch', max=1023), HTML(value='')))"
      ]
     },
     "metadata": {},
     "output_type": "display_data"
    },
    {
     "name": "stdout",
     "output_type": "stream",
     "text": [
      "epoch      trn_loss   val_loss   accuracy                 \n",
      "    0      2.394817   1.939126   0.429704  \n",
      "    1      2.037991   1.591171   0.497477                 \n",
      "    2      1.801648   1.537022   0.51478                  \n",
      "    3      1.666862   1.438405   0.529921                 \n",
      "    4      1.525738   1.369943   0.554434                 \n",
      "    5      1.422856   1.343253   0.557318                 \n",
      "    6      1.349367   1.338509   0.55876                  \n",
      "    7      1.309214   1.317043   0.565249                 \n",
      "    8      1.260007   1.25724    0.591925                 \n",
      "    9      1.206036   1.250956   0.586878                 \n",
      "    10     1.153347   1.217566   0.607787                 \n",
      "    11     1.107026   1.203983   0.611391                 \n",
      "    12     1.065985   1.188797   0.612833                 \n",
      "    13     1.03037    1.183124   0.615717                 \n",
      "    14     1.01171    1.18142    0.614996                 \n",
      "    15     1.019363   1.181124   0.612112                 \n",
      "    16     1.010045   1.165464   0.622927                 \n",
      "    17     0.984739   1.139742   0.6323                    \n",
      "    18     0.956389   1.129758   0.644557                  \n",
      "    19     0.934708   1.123972   0.63951                   \n",
      "    20     0.897916   1.105684   0.657534                  \n",
      "    21     0.866767   1.09199    0.659697                  \n",
      "    22     0.842766   1.087639   0.656092                  \n",
      "    23     0.812438   1.067773   0.671233                  \n",
      "    24     0.784732   1.073066   0.666186                  \n",
      "    25     0.759689   1.063945   0.680606                  \n",
      "    26     0.744771   1.053821   0.67628                   \n",
      "    27     0.732363   1.05437    0.687815                  \n",
      "    28     0.714344   1.056959   0.685652                  \n",
      "    29     0.711868   1.05465    0.68349                   \n",
      "    30     0.712498   1.055094   0.687815                  \n",
      "    31     0.726959   1.05731    0.684211                  \n",
      "    32     0.735888   1.070685   0.669791                  \n",
      "    33     0.727173   1.06156    0.678443                  \n",
      "    34     0.714109   1.071075   0.684211                  \n",
      "    35     0.706024   1.064707   0.692141                  \n",
      "    36     0.689264   1.061965   0.694304                  \n",
      "    37     0.671572   1.033745   0.700072                  \n",
      "    38     0.663321   1.045928   0.693583                  \n",
      "    39     0.649346   1.043782   0.703677                  \n",
      "    40     0.631026   1.040639   0.708724                  \n",
      "    41     0.611793   1.032206   0.702235                  \n",
      "    42     0.591259   1.049001   0.706561                  \n",
      "    43     0.57216    1.036538   0.708724                  \n",
      "    44     0.552691   1.031484   0.713771                  \n",
      "    45     0.530864   1.031594   0.715934                  \n",
      "    46     0.519785   1.035998   0.72026                   \n",
      "    47     0.514065   1.03617    0.715934                  \n",
      "    48     0.497306   1.026495   0.72026                   \n",
      "    49     0.486892   1.023366   0.724585                  \n",
      "    50     0.479142   1.015319   0.722422                  \n",
      "    51     0.469086   1.017381   0.723864                  \n",
      "    52     0.464891   1.021767   0.724585                  \n",
      "    53     0.453438   1.01574    0.723143                  \n",
      "    54     0.445086   1.015892   0.720981                  \n",
      "    55     0.438004   1.019078   0.728911                  \n",
      "    56     0.433227   1.019829   0.722422                  \n",
      "    57     0.427562   1.019537   0.727469                  \n",
      "    58     0.427595   1.019194   0.726748                  \n",
      "    59     0.423589   1.016413   0.726027                  \n",
      "    60     0.420423   1.015992   0.726027                  \n",
      "    61     0.4242     1.016162   0.723143                  \n",
      "    62     0.425782   1.016884   0.723143                  \n",
      "    63     0.444911   1.05593    0.718818                  \n",
      "    64     0.460294   1.05389    0.710887                  \n",
      "    65     0.457263   1.052026   0.708724                  \n",
      "    66     0.461455   1.057327   0.718097                  \n",
      "    67     0.460369   1.065456   0.720981                  \n",
      "    68     0.453346   1.053157   0.717376                 \n",
      "    69     0.444379   1.067506   0.719539                 \n",
      "    70     0.440724   1.053275   0.715213                 \n",
      "    71     0.436512   1.056072   0.717376                  \n",
      "    72     0.416172   1.076064   0.726027                  \n",
      "    73     0.410182   1.069583   0.72026                  \n",
      "    74     0.393655   1.080727   0.712329                  \n",
      "    75     0.387676   1.055937   0.72819                   \n",
      "    76     0.379926   1.076805   0.715934                  \n",
      "    77     0.370039   1.062451   0.72819                   \n",
      "    78     0.36602    1.056031   0.726748                  \n",
      "    79     0.351164   1.044304   0.725306                  \n",
      "    80     0.341382   1.07007    0.721702                 \n",
      "    81     0.333577   1.071522   0.723864                  \n",
      "    82     0.326023   1.061522   0.733237                  \n",
      "    83     0.318313   1.076541   0.722422                  \n",
      "    84     0.313136   1.071765   0.722423                  \n",
      "    85     0.310157   1.075759   0.72819                   \n",
      "    86     0.298405   1.090431   0.728911                  \n",
      "    87     0.293586   1.079257   0.737563                  \n",
      "    88     0.280364   1.093069   0.728911                  \n",
      "    89     0.273292   1.082882   0.731795                  \n",
      "    90     0.2773     1.092676   0.731074                  \n",
      "    91     0.272554   1.085291   0.741889                  \n",
      "    92     0.270102   1.094235   0.731795                  \n",
      "    93     0.257818   1.086542   0.736121                 \n",
      "    94     0.248358   1.104688   0.7354                    \n",
      "    95     0.246844   1.114011   0.7354                    \n",
      "    96     0.242162   1.100125   0.731074                  \n",
      "    97     0.23352    1.096304   0.736842                  \n",
      "    98     0.232393   1.088695   0.739005                  \n",
      "    99     0.223219   1.104626   0.741889                  \n",
      "   100     0.221706   1.101567   0.743331                  \n",
      "   101     0.217995   1.112643   0.739005                  \n",
      "   102     0.215332   1.111859   0.739726                  \n",
      "   103     0.218784   1.113791   0.7354                    \n",
      "   104     0.217853   1.108756   0.740447                  \n",
      "   105     0.210804   1.105115   0.741168                  \n",
      "   106     0.208871   1.103862   0.74261                   \n",
      "   107     0.203936   1.103079   0.744052                  \n",
      "   108     0.202349   1.111902   0.739726                  \n",
      "   109     0.19904    1.104002   0.74261                  \n",
      "   110     0.200015   1.105068   0.739726                  \n",
      "   111     0.196088   1.104857   0.739726                  \n",
      "   112     0.196368   1.103978   0.74261                  \n",
      "   113     0.191651   1.111441   0.741889                  \n",
      "   114     0.19428    1.111808   0.74261                   \n",
      "   115     0.190226   1.11257    0.741889                  \n",
      "   116     0.190263   1.111676   0.743331                  \n",
      "   117     0.190686   1.111697   0.739726                 \n",
      "   118     0.190575   1.110939   0.741168                  \n",
      "   119     0.191556   1.112347   0.745494                  \n",
      "   120     0.185554   1.113095   0.741889                  \n",
      "   121     0.183097   1.111418   0.745494                  \n",
      "   122     0.183507   1.11298    0.740447                 \n",
      "   123     0.18822    1.111266   0.74261                   \n",
      "   124     0.185721   1.113775   0.740447                 \n",
      "   125     0.182276   1.112554   0.74261                   \n",
      "   126     0.182917   1.114016   0.739005                  \n",
      "   127     0.197176   1.128097   0.740447                 \n",
      "   128     0.217597   1.127164   0.733958                  \n",
      "   129     0.229478   1.122444   0.736121                  \n",
      "   130     0.233587   1.153942   0.727469                  \n",
      "   131     0.234945   1.146971   0.739726                  \n",
      "   132     0.230557   1.145591   0.74261                   \n",
      "   133     0.233471   1.133303   0.733958                  \n",
      "   134     0.230064   1.132005   0.731074                  \n",
      "   135     0.231118   1.147417   0.741889                  \n"
     ]
    },
    {
     "name": "stdout",
     "output_type": "stream",
     "text": [
      "   136     0.226076   1.114832   0.749099                  \n",
      "   137     0.22421    1.140555   0.736121                 \n",
      "   138     0.223464   1.146563   0.732516                  \n",
      "   139     0.216297   1.143585   0.736121                  \n",
      "   140     0.212889   1.137873   0.736121                  \n",
      "   141     0.209286   1.171468   0.738284                  \n",
      "   142     0.206161   1.164005   0.739726                  \n",
      "   143     0.20257    1.163877   0.733958                  \n",
      "   144     0.201118   1.160773   0.736842                  \n",
      "   145     0.200924   1.163901   0.732516                  \n",
      "   146     0.193944   1.157442   0.7354                    \n",
      "   147     0.189297   1.173994   0.732516                  \n",
      "   148     0.189873   1.174708   0.733958                  \n",
      "   149     0.187948   1.202976   0.726748                  \n",
      "   150     0.184199   1.161915   0.732516                  \n",
      "   151     0.184883   1.168594   0.726748                  \n",
      "   152     0.179491   1.214701   0.736121                  \n",
      "   153     0.17714    1.171447   0.736121                  \n",
      "   154     0.180315   1.191586   0.74261                   \n",
      "   155     0.175181   1.172301   0.74261                   \n",
      "   156     0.170129   1.204779   0.741168                  \n",
      "   157     0.164401   1.191734   0.743331                  \n",
      "   158     0.160062   1.207741   0.726748                  \n",
      "   159     0.154508   1.188766   0.738284                  \n",
      "   160     0.156603   1.178771   0.741889                  \n",
      "   161     0.156429   1.172842   0.7354                    \n",
      "   162     0.154564   1.224709   0.736121                  \n",
      "   163     0.148526   1.185745   0.737563                  \n",
      "   164     0.147256   1.177334   0.745494                  \n",
      "   165     0.146452   1.210131   0.740447                  \n",
      "   166     0.143904   1.204361   0.739726                  \n",
      "   167     0.140981   1.221657   0.741168                  \n",
      "   168     0.138642   1.238702   0.731795                  \n",
      "   169     0.133591   1.204312   0.741168                  \n",
      "   170     0.136911   1.192974   0.738284                  \n",
      "   171     0.127159   1.187274   0.738284                  \n",
      "   172     0.131582   1.220945   0.738284                 \n",
      "   173     0.128376   1.216136   0.7354                    \n",
      "   174     0.123529   1.226363   0.736842                  \n",
      "   175     0.120808   1.231439   0.736121                  \n",
      "   176     0.116827   1.215374   0.736121                  \n",
      "   177     0.115055   1.21866    0.734679                  \n",
      "   178     0.114665   1.225224   0.737563                  \n",
      "   179     0.113268   1.240841   0.739726                  \n",
      "   180     0.111187   1.216222   0.736121                  \n",
      "   181     0.105713   1.230316   0.743331                  \n",
      "   182     0.103748   1.250074   0.743331                  \n",
      "   183     0.100688   1.244522   0.744052                  \n",
      "   184     0.099419   1.239704   0.741889                 \n",
      "   185     0.102852   1.241324   0.736121                  \n",
      "   186     0.099993   1.234628   0.7354                    \n",
      "   187     0.099311   1.235238   0.739005                   \n",
      "   188     0.096164   1.233791   0.741168                   \n",
      "   189     0.097406   1.235449   0.74261                    \n",
      "   190     0.094452   1.242171   0.738284                   \n",
      "   191     0.09826    1.22998    0.741168                   \n",
      "   192     0.097515   1.225534   0.736842                   \n",
      "   193     0.096727   1.248794   0.741168                   \n",
      "   194     0.091866   1.261312   0.736121                   \n",
      "   195     0.090923   1.25219    0.738284                   \n",
      "   196     0.089091   1.254322   0.739726                   \n",
      "   197     0.090407   1.241894   0.74261                    \n",
      "   198     0.088556   1.253763   0.74261                    \n",
      "   199     0.091654   1.249708   0.743331                   \n",
      "   200     0.092057   1.267005   0.741168                  \n",
      "   201     0.087325   1.255946   0.739726                   \n",
      "   202     0.085245   1.25334    0.736842                   \n",
      "   203     0.083643   1.248389   0.746215                  \n",
      "   204     0.080682   1.251757   0.741889                   \n",
      "   205     0.081229   1.251711   0.743331                   \n",
      "   206     0.080515   1.254326   0.743331                   \n",
      "   207     0.082011   1.256785   0.746215                   \n",
      "   208     0.080913   1.252348   0.74261                    \n",
      "   209     0.084937   1.265416   0.738284                   \n",
      "   210     0.082935   1.263445   0.740447                   \n",
      "   211     0.081555   1.26936    0.743331                  \n",
      "   212     0.082088   1.269147   0.743331                  \n",
      "   213     0.079852   1.259621   0.744052                   \n",
      "   214     0.079668   1.263713   0.744773                   \n",
      "   215     0.077516   1.267793   0.748378                   \n",
      "   216     0.076034   1.266124   0.744773                   \n",
      "   217     0.079784   1.263134   0.741889                   \n",
      "   218     0.078042   1.261222   0.74261                    \n",
      "   219     0.075965   1.258793   0.745494                   \n",
      "   220     0.069717   1.255073   0.744773                   \n",
      "   221     0.071247   1.257629   0.739726                   \n",
      "   222     0.070338   1.262247   0.74261                    \n",
      "   223     0.070247   1.265045   0.738284                   \n",
      "   224     0.07126    1.270772   0.74261                    \n",
      "   225     0.072558   1.267077   0.740447                   \n",
      "   226     0.07149    1.256216   0.744773                   \n",
      "   227     0.070182   1.262478   0.741889                   \n",
      "   228     0.069853   1.264877   0.743331                   \n",
      "   229     0.070698   1.257342   0.744773                   \n",
      "   230     0.069963   1.268064   0.744773                   \n",
      "   231     0.070616   1.265605   0.740447                   \n",
      "   232     0.069161   1.263903   0.744773                   \n",
      "   233     0.070717   1.262826   0.741889                   \n",
      "   234     0.069665   1.262179   0.740447                   \n",
      "   235     0.068896   1.267554   0.741889                   \n",
      "   236     0.069587   1.267913   0.738284                   \n",
      "   237     0.068333   1.268312   0.740447                   \n",
      "   238     0.066513   1.264685   0.741889                   \n",
      "   239     0.068693   1.266492   0.74261                    \n",
      "   240     0.068798   1.268106   0.741168                   \n",
      "   241     0.068471   1.266234   0.74261                    \n",
      "   242     0.070159   1.271161   0.74261                    \n",
      "   243     0.069298   1.277103   0.740447                   \n",
      "   244     0.068708   1.272314   0.741168                   \n",
      "   245     0.068706   1.273531   0.740447                   \n",
      "   246     0.067831   1.265723   0.741889                   \n",
      "   247     0.067927   1.270989   0.741889                   \n",
      "   248     0.065767   1.266841   0.74261                    \n",
      "   249     0.063627   1.274771   0.740447                   \n",
      "   250     0.066749   1.271624   0.741889                   \n",
      "   251     0.066213   1.268319   0.741168                   \n",
      "   252     0.067426   1.271005   0.740447                   \n",
      "   253     0.065524   1.272927   0.741889                   \n",
      "   254     0.067828   1.273833   0.74261                    \n",
      "   255     0.070898   1.314276   0.7354                     \n",
      "   256     0.080792   1.279291   0.733958                   \n",
      "   257     0.089268   1.30614    0.74261                    \n",
      "   258     0.093025   1.280611   0.739005                   \n",
      "   259     0.09837    1.296067   0.741168                   \n",
      "   260     0.101526   1.276478   0.739005                   \n",
      "   261     0.103169   1.262449   0.739005                  \n",
      "   262     0.104775   1.268281   0.744773                  \n",
      "   263     0.103316   1.315601   0.741168                  \n",
      "   264     0.103631   1.298211   0.739726                  \n",
      "   265     0.102301   1.281709   0.741168                  \n",
      "   266     0.104155   1.304318   0.733237                  \n",
      "   267     0.102005   1.301867   0.737563                  \n",
      "   268     0.103297   1.324425   0.740447                  \n",
      "   269     0.096866   1.273144   0.741168                   \n",
      "   270     0.096619   1.310179   0.737563                   \n"
     ]
    },
    {
     "name": "stdout",
     "output_type": "stream",
     "text": [
      "   271     0.098063   1.300556   0.740447                   \n",
      "   272     0.099706   1.291539   0.74261                    \n",
      "   273     0.102471   1.303676   0.744773                   \n",
      "   274     0.099511   1.303672   0.741168                 \n",
      "   275     0.094551   1.307985   0.739726                   \n",
      "   276     0.096825   1.318425   0.739005                   \n",
      "   277     0.09815    1.307284   0.739726                   \n",
      "   278     0.096515   1.313731   0.739005                   \n",
      "   279     0.093213   1.321219   0.738284                   \n",
      "   280     0.089849   1.311989   0.736121                   \n",
      "   281     0.092004   1.308597   0.72819                    \n",
      "   282     0.091829   1.313072   0.731795                   \n",
      "   283     0.08872    1.317414   0.736842                   \n",
      "   284     0.09024    1.342589   0.732516                   \n",
      "   285     0.085967   1.318025   0.7354                     \n",
      "   286     0.088557   1.340449   0.738284                   \n",
      "   287     0.0868     1.335572   0.7354                     \n",
      "   288     0.087984   1.322347   0.744773                   \n",
      "   289     0.086118   1.340838   0.741889                   \n",
      "   290     0.086387   1.322932   0.74261                    \n",
      "   291     0.089881   1.316587   0.741889                   \n",
      "   292     0.088928   1.333265   0.741889                   \n",
      "   293     0.089746   1.325202   0.739005                   \n",
      "   294     0.086884   1.345146   0.746936                   \n",
      "   295     0.084743   1.340072   0.741889                  \n",
      "   296     0.084388   1.328317   0.745494                   \n",
      "   297     0.082929   1.335376   0.743331                   \n",
      "   298     0.082351   1.359154   0.739005                   \n",
      "   299     0.084298   1.346046   0.739726                   \n",
      "   300     0.084714   1.314976   0.748378                   \n",
      "   301     0.08271    1.316945   0.744052                   \n",
      "   302     0.079424   1.33395    0.739726                   \n",
      "   303     0.08003    1.343987   0.741168                   \n",
      "   304     0.078227   1.337604   0.744052                   \n",
      "   305     0.074337   1.331685   0.751262                   \n",
      "   306     0.072698   1.311616   0.749099                   \n",
      "   307     0.072978   1.31539    0.743331                   \n",
      "   308     0.07419    1.361903   0.750541                   \n",
      "   309     0.072758   1.339568   0.744052                   \n",
      "   310     0.074795   1.337351   0.740447                   \n",
      "   311     0.070864   1.340223   0.746215                   \n",
      "   312     0.072318   1.328529   0.754146                   \n",
      "   313     0.071743   1.357592   0.749099                   \n",
      "   314     0.071953   1.37205    0.747657                   \n",
      "   315     0.076005   1.359077   0.744773                   \n",
      "   316     0.076025   1.367236   0.746215                   \n",
      "   317     0.070797   1.353853   0.741889                   \n",
      "   318     0.067653   1.349336   0.741889                   \n",
      "   319     0.066899   1.356389   0.74982                    \n",
      "   320     0.064033   1.366219   0.743331                   \n",
      "   321     0.065258   1.374309   0.739726                   \n",
      "   322     0.063543   1.361489   0.747657                   \n",
      "   323     0.065787   1.371483   0.743331                   \n",
      "   324     0.071358   1.383525   0.744773                   \n",
      "   325     0.068588   1.374438   0.748378                   \n",
      "   326     0.064977   1.38511    0.746936                   \n",
      "   327     0.067349   1.398373   0.738284                   \n",
      "   328     0.067233   1.386242   0.746936                   \n",
      "   329     0.067165   1.390361   0.746936                   \n",
      "   330     0.065393   1.381881   0.754867                   \n",
      "   331     0.064496   1.362701   0.746215                   \n",
      "   332     0.057376   1.371304   0.747657                  \n",
      "   333     0.0571     1.380521   0.744052                   \n",
      "   334     0.057964   1.359266   0.749099                   \n",
      "   335     0.058877   1.375953   0.746215                   \n",
      "   336     0.057346   1.389692   0.747657                   \n",
      "   337     0.056038   1.403604   0.746215                   \n",
      "   338     0.05594    1.384132   0.752704                   \n",
      "   339     0.057352   1.388856   0.750541                   \n",
      "   340     0.058113   1.366748   0.751983                   \n",
      "   341     0.055498   1.387858   0.753425                   \n",
      "   342     0.056376   1.38774    0.751262                   \n",
      "   343     0.057865   1.398654   0.744773                   \n",
      "   344     0.062264   1.401179   0.74982                    \n",
      "   345     0.058557   1.405417   0.749099                   \n",
      "   346     0.054985   1.403276   0.748378                   \n",
      "   347     0.056228   1.398132   0.750541                   \n",
      "   348     0.052743   1.406175   0.747657                   \n",
      "   349     0.056256   1.418717   0.744773                   \n",
      "   350     0.054788   1.405413   0.746215                   \n",
      "   351     0.055665   1.398095   0.744773                   \n",
      "   352     0.05257    1.409955   0.744773                   \n",
      "   353     0.051262   1.40651    0.744773                   \n",
      "   354     0.049952   1.417309   0.747657                   \n",
      "   355     0.049048   1.423272   0.741889                   \n",
      "   356     0.05026    1.433749   0.741168                   \n",
      "   357     0.051157   1.412013   0.741889                   \n",
      "   358     0.050791   1.426201   0.747657                  \n",
      "   359     0.050399   1.40465    0.751262                   \n",
      "   360     0.04972    1.409036   0.746215                   \n",
      "   361     0.049134   1.387332   0.747657                   \n",
      "   362     0.048552   1.389522   0.749099                   \n",
      "   363     0.048458   1.413409   0.746936                   \n",
      "   364     0.047533   1.395655   0.746936                  \n",
      "   365     0.045555   1.415095   0.747657                   \n",
      "   366     0.044659   1.429211   0.745494                   \n",
      "   367     0.043016   1.432825   0.744052                   \n",
      "   368     0.040987   1.432849   0.743331                   \n",
      "   369     0.043137   1.409854   0.749099                   \n",
      "   370     0.047582   1.403094   0.751983                   \n",
      "   371     0.046419   1.399491   0.74982                    \n",
      "   372     0.046918   1.419103   0.748378                   \n",
      "   373     0.045993   1.41573    0.746936                   \n",
      "   374     0.04465    1.427024   0.744052                   \n",
      "   375     0.04101    1.429281   0.745494                   \n",
      "   376     0.041399   1.423661   0.739726                   \n",
      "   377     0.042412   1.428857   0.747657                   \n",
      "   378     0.041684   1.408031   0.751262                   \n",
      "   379     0.04048    1.413801   0.743331                   \n",
      "   380     0.042119   1.410226   0.744773                   \n",
      "   381     0.043093   1.409202   0.74261                    \n",
      "   382     0.042943   1.402376   0.744773                   \n",
      "   383     0.04494    1.40163    0.748378                   \n",
      "   384     0.038773   1.404452   0.746936                   \n",
      "   385     0.038243   1.417645   0.751262                   \n",
      "   386     0.04081    1.411159   0.753425                   \n",
      "   387     0.042723   1.435457   0.747657                  \n",
      "   388     0.042151   1.448448   0.745494                   \n",
      "   389     0.039596   1.416901   0.745494                   \n",
      "   390     0.037097   1.428989   0.749099                   \n",
      "   391     0.040372   1.418939   0.74982                    \n",
      "   392     0.041019   1.42504    0.748378                   \n",
      "   393     0.039541   1.422767   0.749099                   \n",
      "   394     0.037283   1.416669   0.750541                  \n",
      "   395     0.036676   1.429506   0.748378                   \n",
      "   396     0.038478   1.410288   0.74982                    \n",
      "   397     0.040777   1.425426   0.751262                   \n",
      "   398     0.041894   1.41741    0.746936                   \n",
      "   399     0.04169    1.415781   0.752704                   \n",
      "   400     0.038544   1.413663   0.751262                   \n",
      "   401     0.038502   1.417052   0.74982                    \n",
      "   402     0.03628    1.41345    0.749099                   \n",
      "   403     0.035221   1.416216   0.751983                   \n",
      "   404     0.035302   1.429983   0.750541                   \n"
     ]
    },
    {
     "name": "stdout",
     "output_type": "stream",
     "text": [
      "   405     0.035736   1.431801   0.749099                   \n",
      "   406     0.036294   1.42249    0.751262                   \n",
      "   407     0.034559   1.405192   0.74982                    \n",
      "   408     0.034538   1.407921   0.750541                   \n",
      "   409     0.03381    1.419499   0.74982                    \n",
      "   410     0.033256   1.417582   0.747657                   \n",
      "   411     0.03538    1.42048    0.747657                   \n",
      "   412     0.035157   1.411642   0.754146                   \n",
      "   413     0.036384   1.418359   0.750541                   \n",
      "   414     0.035145   1.424511   0.754146                   \n",
      "   415     0.035237   1.420181   0.751262                   \n",
      "   416     0.035637   1.41372    0.751983                   \n",
      "   417     0.036708   1.423154   0.751262                   \n",
      "   418     0.033269   1.426723   0.748378                   \n",
      "   419     0.031035   1.42769    0.751983                   \n",
      "   420     0.030656   1.427938   0.751262                   \n",
      "   421     0.032637   1.436864   0.74982                    \n",
      "   422     0.032838   1.436861   0.749099                   \n",
      "   423     0.0338     1.433256   0.749099                   \n",
      "   424     0.033709   1.439952   0.752704                   \n",
      "   425     0.031995   1.439129   0.754867                   \n",
      "   426     0.032616   1.443351   0.755588                   \n",
      "   427     0.033494   1.442336   0.753425                   \n",
      "   428     0.033432   1.443967   0.751983                   \n",
      "   429     0.031957   1.446517   0.749099                  \n",
      "   430     0.033562   1.440276   0.747657                   \n",
      "   431     0.032486   1.43795    0.744773                   \n",
      "   432     0.032532   1.428958   0.748378                   \n",
      "   433     0.032863   1.439345   0.745494                   \n",
      "   434     0.033165   1.434075   0.751262                   \n",
      "   435     0.033036   1.435374   0.752704                   \n",
      "   436     0.034856   1.431662   0.750541                   \n",
      "   437     0.032892   1.437268   0.747657                   \n",
      "   438     0.033251   1.440748   0.747657                   \n",
      "   439     0.033139   1.438183   0.74982                    \n",
      "   440     0.032766   1.445582   0.747657                   \n",
      "   441     0.032262   1.441616   0.751262                   \n",
      "   442     0.030227   1.446707   0.74982                    \n",
      "   443     0.029173   1.444573   0.748378                   \n",
      "   444     0.030198   1.441623   0.747657                   \n",
      "   445     0.029323   1.455352   0.749099                   \n",
      "   446     0.030258   1.45964    0.746215                   \n",
      "   447     0.02849    1.453728   0.746215                   \n",
      "   448     0.028505   1.446408   0.746215                   \n",
      "   449     0.031121   1.449077   0.749099                   \n",
      "   450     0.03196    1.442427   0.751983                   \n",
      "   451     0.031186   1.444908   0.748378                   \n",
      "   452     0.029781   1.438977   0.751983                   \n",
      "   453     0.029807   1.44634    0.752704                   \n",
      "   454     0.029942   1.443095   0.751262                   \n",
      "   455     0.03016    1.448269   0.751262                  \n",
      "   456     0.029782   1.453911   0.74982                    \n",
      "   457     0.027642   1.445149   0.753425                  \n",
      "   458     0.030725   1.441445   0.751983                   \n",
      "   459     0.029445   1.438502   0.750541                  \n",
      "   460     0.029265   1.440798   0.751983                   \n",
      "   461     0.028448   1.439896   0.751983                   \n",
      "   462     0.029586   1.444528   0.751262                   \n",
      "   463     0.029275   1.436502   0.752704                   \n",
      "   464     0.030008   1.439807   0.754146                   \n",
      "   465     0.029287   1.438036   0.749099                   \n",
      "   466     0.031118   1.43505    0.750541                   \n",
      "   467     0.031089   1.445586   0.74982                    \n",
      "   468     0.030624   1.443104   0.752704                   \n",
      "   469     0.028431   1.444139   0.750541                   \n",
      "   470     0.026171   1.44789    0.751983                   \n",
      "   471     0.028671   1.450903   0.748378                   \n",
      "   472     0.029719   1.449325   0.751262                   \n",
      "   473     0.028567   1.451256   0.754146                   \n",
      "   474     0.032223   1.450336   0.751983                   \n",
      "   475     0.029613   1.456724   0.750541                   \n",
      "   476     0.029439   1.450096   0.751262                   \n",
      "   477     0.027204   1.453342   0.751262                   \n",
      "   478     0.02643    1.451111   0.749099                   \n",
      "   479     0.028542   1.455974   0.750541                   \n",
      "   480     0.028661   1.45023    0.74982                    \n",
      "   481     0.028919   1.453482   0.749099                   \n",
      "   482     0.028928   1.448561   0.747657                   \n",
      "   483     0.031492   1.441964   0.749099                   \n",
      "   484     0.03023    1.449347   0.74982                    \n",
      "   485     0.028013   1.45801    0.751983                   \n",
      "   486     0.028268   1.454902   0.74982                    \n",
      "   487     0.027171   1.442976   0.750541                   \n",
      "   488     0.026404   1.444705   0.74982                    \n",
      "   489     0.030802   1.447889   0.74982                    \n",
      "   490     0.029315   1.443548   0.748378                   \n",
      "   491     0.029232   1.443947   0.748378                   \n",
      "   492     0.028541   1.452135   0.74982                    \n",
      "   493     0.028792   1.456934   0.750541                  \n",
      "   494     0.02789    1.44743    0.747657                   \n",
      "   495     0.028369   1.448857   0.751983                   \n",
      "   496     0.027833   1.458246   0.74982                    \n",
      "   497     0.029212   1.445087   0.74982                    \n",
      "   498     0.029323   1.451703   0.74982                    \n",
      "   499     0.028101   1.448788   0.749099                   \n",
      "   500     0.028164   1.45425    0.749099                   \n",
      "   501     0.027618   1.448916   0.750541                   \n",
      "   502     0.027372   1.449897   0.751262                   \n",
      "   503     0.028213   1.442661   0.752704                   \n",
      "   504     0.028512   1.443167   0.750541                   \n",
      "   505     0.027641   1.449129   0.74982                   \n",
      "   506     0.029526   1.453331   0.749099                   \n",
      "   507     0.028512   1.449454   0.748378                   \n",
      "   508     0.029913   1.451613   0.74982                    \n",
      "   509     0.030766   1.442019   0.750541                  \n",
      "   510     0.028746   1.456609   0.750541                   \n",
      "   511     0.031361   1.45672    0.746215                   \n",
      "   512     0.036813   1.458709   0.746936                   \n",
      "   513     0.036905   1.458595   0.748378                   \n",
      "   514     0.037509   1.442968   0.749099                   \n",
      "   515     0.039512   1.47027    0.746215                   \n",
      "   516     0.039234   1.461445   0.743331                  \n",
      "   517     0.041298   1.460019   0.740447                  \n",
      "   518     0.042865   1.429061   0.748378                   \n",
      "   519     0.042953   1.414358   0.755588                   \n",
      "   520     0.045828   1.457077   0.749099                   \n",
      "   521     0.04702    1.44471    0.753425                   \n",
      "   522     0.046708   1.445642   0.748378                  \n",
      "   523     0.047802   1.477377   0.748378                   \n",
      "   524     0.047853   1.461928   0.746936                  \n",
      "   525     0.047221   1.463798   0.745494                   \n",
      "   526     0.048721   1.464913   0.746936                   \n",
      "   527     0.048458   1.476069   0.744773                   \n",
      "   528     0.04677    1.469067   0.745494                  \n",
      "   529     0.046982   1.453999   0.746936                   \n",
      "   530     0.049598   1.457148   0.750541                   \n",
      "   531     0.048873   1.442007   0.756309                   \n",
      "   532     0.046721   1.421014   0.757751                   \n",
      "   533     0.043721   1.468303   0.751262                   \n",
      "   534     0.045303   1.4647     0.748378                   \n",
      "   535     0.045724   1.489347   0.755588                   \n",
      "   536     0.046611   1.476577   0.746936                   \n",
      "   537     0.047648   1.476766   0.750541                   \n",
      "   538     0.049164   1.481021   0.748378                  \n"
     ]
    },
    {
     "name": "stdout",
     "output_type": "stream",
     "text": [
      "   539     0.04738    1.468798   0.746936                   \n",
      "   540     0.047427   1.457009   0.743331                   \n",
      "   541     0.047421   1.466548   0.749099                   \n",
      "   542     0.048444   1.440192   0.751983                   \n",
      "   543     0.046342   1.435133   0.753425                   \n",
      "   544     0.048629   1.457305   0.753425                   \n",
      "   545     0.05113    1.462729   0.74982                    \n",
      "   546     0.051952   1.458684   0.749099                   \n",
      "   547     0.053051   1.480155   0.746215                   \n",
      "   548     0.053559   1.462669   0.749099                   \n",
      "   549     0.05151    1.430437   0.748378                   \n",
      "   550     0.047058   1.440715   0.74982                    \n",
      "   551     0.0483     1.439169   0.754146                   \n",
      "   552     0.049087   1.455212   0.746215                   \n",
      "   553     0.046371   1.474949   0.74982                    \n",
      "   554     0.046303   1.482207   0.748378                   \n",
      "   555     0.046541   1.470106   0.746936                   \n",
      "   556     0.047329   1.467371   0.746215                   \n",
      "   557     0.047874   1.454391   0.747657                   \n",
      "   558     0.045085   1.469027   0.746936                   \n",
      "   559     0.043938   1.501156   0.748378                   \n",
      "   560     0.043548   1.508302   0.747657                   \n",
      "   561     0.04426    1.48906    0.748378                   \n",
      "   562     0.042854   1.484829   0.747657                   \n",
      "   563     0.044719   1.503166   0.747657                   \n",
      "   564     0.044363   1.505614   0.741168                   \n",
      "   565     0.045174   1.509654   0.74261                    \n",
      "   566     0.041702   1.50669    0.746936                   \n",
      "   567     0.042193   1.521371   0.744052                   \n",
      "   568     0.041852   1.500402   0.74261                    \n",
      "   569     0.042266   1.502148   0.743331                   \n",
      "   570     0.04442    1.464891   0.741889                   \n",
      "   571     0.043334   1.472095   0.745494                   \n",
      "   572     0.043773   1.521182   0.738284                   \n",
      "   573     0.041804   1.481646   0.741168                   \n",
      "   574     0.041514   1.473719   0.740447                   \n",
      "   575     0.04207    1.471774   0.749099                   \n",
      "   576     0.04106    1.464466   0.749099                   \n",
      "   577     0.045884   1.490475   0.74982                   \n",
      "   578     0.04372    1.496247   0.749099                   \n",
      "   579     0.040847   1.486842   0.746215                   \n",
      "   580     0.040057   1.476457   0.75703                    \n",
      "   581     0.038327   1.492513   0.745494                   \n",
      "   582     0.038416   1.51065    0.747657                   \n",
      "   583     0.041403   1.525802   0.744773                   \n",
      "   584     0.041753   1.507436   0.744052                   \n",
      "   585     0.041047   1.500504   0.747657                  \n",
      "   586     0.040547   1.465889   0.747657                   \n",
      "   587     0.039969   1.476244   0.744773                   \n",
      "   588     0.042106   1.472864   0.752704                   \n",
      "   589     0.04172    1.449827   0.754146                   \n",
      "   590     0.039844   1.46821    0.754146                   \n",
      "   591     0.037323   1.471168   0.749099                   \n",
      "   592     0.037706   1.49668    0.74982                    \n",
      "   593     0.040557   1.474691   0.749099                   \n",
      "   594     0.036975   1.481006   0.748378                   \n",
      "   595     0.036079   1.471544   0.748378                  \n",
      "   596     0.037976   1.450641   0.754146                   \n",
      "   597     0.039667   1.471532   0.748378                   \n",
      "   598     0.03873    1.47374    0.750541                   \n",
      "   599     0.040138   1.470972   0.746936                   \n",
      "   600     0.041514   1.488325   0.751262                   \n",
      "   601     0.040542   1.471229   0.74982                    \n",
      "   602     0.037519   1.494632   0.751262                   \n",
      "   603     0.034436   1.477827   0.751262                   \n",
      "   604     0.036268   1.485114   0.743331                   \n",
      "   605     0.037176   1.484779   0.74982                    \n",
      "   606     0.037411   1.456836   0.752704                   \n",
      "   607     0.037481   1.452247   0.750541                   \n",
      "   608     0.03779    1.444942   0.754146                   \n",
      "   609     0.037562   1.440637   0.750541                  \n",
      "   610     0.037229   1.455483   0.747657                   \n",
      "   611     0.038999   1.48267    0.744773                   \n",
      "   612     0.036925   1.465646   0.745494                   \n",
      "   613     0.038277   1.454773   0.744773                   \n",
      "   614     0.036067   1.463205   0.745494                   \n",
      "   615     0.036594   1.477092   0.744052                   \n",
      "   616     0.035961   1.479644   0.747657                   \n",
      "   617     0.036639   1.491469   0.752704                   \n",
      "   618     0.035914   1.472204   0.755588                   \n",
      "   619     0.036362   1.467491   0.751983                   \n",
      "   620     0.037476   1.447901   0.747657                   \n",
      "   621     0.035538   1.479452   0.747657                   \n",
      "   622     0.035736   1.470864   0.746215                   \n",
      "   623     0.033826   1.470022   0.746215                   \n",
      "   624     0.033554   1.470392   0.751262                   \n",
      "   625     0.033948   1.449596   0.741889                   \n",
      "   626     0.03227    1.445058   0.747657                   \n",
      "   627     0.031613   1.468686   0.750541                   \n",
      "   628     0.031881   1.483579   0.74261                    \n",
      "   629     0.036033   1.48919    0.739726                   \n",
      "   630     0.037059   1.476563   0.750541                   \n",
      "   631     0.034628   1.451671   0.74982                    \n",
      "   632     0.034031   1.472858   0.744773                   \n",
      "   633     0.034654   1.484615   0.744052                  \n",
      "   634     0.033115   1.484703   0.744773                   \n",
      "   635     0.033248   1.463872   0.746936                   \n",
      "   636     0.033543   1.458826   0.755588                   \n",
      "   637     0.032165   1.479272   0.74982                    \n",
      "   638     0.031162   1.480364   0.751983                   \n",
      "   639     0.031584   1.486982   0.753425                   \n",
      "   640     0.031288   1.48372    0.749099                   \n",
      "   641     0.031403   1.485812   0.751983                   \n",
      "   642     0.030853   1.483588   0.752704                   \n",
      "   643     0.030606   1.482258   0.752704                   \n",
      "   644     0.030612   1.490128   0.751262                   \n",
      "   645     0.029075   1.490763   0.749099                   \n",
      "   646     0.030722   1.494155   0.750541                   \n",
      "   647     0.031902   1.505732   0.739726                   \n",
      "   648     0.030413   1.525103   0.744052                   \n",
      "   649     0.032551   1.509682   0.743331                   \n",
      "   650     0.030619   1.498613   0.749099                   \n",
      "   651     0.032601   1.499413   0.745494                   \n",
      "   652     0.032715   1.520394   0.753425                   \n",
      "   653     0.029647   1.508868   0.749099                   \n",
      "   654     0.028557   1.523518   0.749099                   \n",
      "   655     0.028411   1.516318   0.750541                   \n",
      "   656     0.026105   1.521573   0.748378                  \n",
      "   657     0.026363   1.545303   0.74982                    \n",
      "   658     0.026292   1.548205   0.751262                   \n",
      "   659     0.02831    1.544183   0.749099                   \n",
      "   660     0.028642   1.525759   0.747657                   \n",
      "   661     0.026518   1.550022   0.748378                   \n",
      "   662     0.026962   1.555588   0.743331                   \n",
      "   663     0.028265   1.541379   0.746936                   \n",
      "   664     0.031138   1.537833   0.744773                   \n",
      "   665     0.029176   1.531057   0.751262                   \n",
      "   666     0.029632   1.545812   0.747657                   \n",
      "   667     0.031183   1.534683   0.746936                   \n",
      "   668     0.030643   1.544259   0.746936                   \n",
      "   669     0.028521   1.539269   0.751983                   \n",
      "   670     0.028246   1.548926   0.751983                   \n",
      "   671     0.029002   1.560504   0.743331                   \n",
      "   672     0.02965    1.563389   0.746215                   \n"
     ]
    },
    {
     "name": "stdout",
     "output_type": "stream",
     "text": [
      "   673     0.028775   1.558545   0.746936                   \n",
      "   674     0.028738   1.530028   0.744773                   \n",
      "   675     0.027998   1.547065   0.743331                   \n",
      "   676     0.027768   1.553389   0.744773                   \n",
      "   677     0.027225   1.558939   0.744052                   \n",
      "   678     0.027825   1.556872   0.746936                   \n",
      "   679     0.027694   1.55021    0.744773                   \n",
      "   680     0.027584   1.556363   0.744052                   \n",
      "   681     0.03039    1.542384   0.748378                   \n",
      "   682     0.02942    1.525387   0.74261                    \n",
      "   683     0.029155   1.529609   0.743331                   \n",
      "   684     0.027653   1.544075   0.74261                    \n",
      "   685     0.02707    1.53283    0.744773                   \n",
      "   686     0.025663   1.554756   0.747657                   \n",
      "   687     0.025744   1.557434   0.743331                   \n",
      "   688     0.026036   1.548963   0.746215                   \n",
      "   689     0.027813   1.545807   0.744773                  \n",
      "   690     0.026621   1.559389   0.745494                  \n",
      "   691     0.025746   1.570306   0.743331                   \n",
      "   692     0.026845   1.576879   0.740447                   \n",
      "   693     0.025104   1.55674    0.746215                   \n",
      "   694     0.025384   1.560911   0.744052                   \n",
      "   695     0.025681   1.570683   0.746936                   \n",
      "   696     0.02744    1.567831   0.751983                   \n",
      "   697     0.025537   1.575805   0.748378                   \n",
      "   698     0.026225   1.566848   0.750541                   \n",
      "   699     0.027652   1.573184   0.745494                   \n",
      "   700     0.027102   1.568249   0.74982                    \n",
      "   701     0.02637    1.572432   0.750541                   \n",
      "   702     0.026364   1.567137   0.747657                  \n",
      "   703     0.025621   1.553446   0.749099                   \n",
      "   704     0.026438   1.553389   0.754146                   \n",
      "   705     0.026205   1.554599   0.751983                  \n",
      "   706     0.02654    1.56443    0.745494                  \n",
      "   707     0.023482   1.546743   0.745494                   \n",
      "   708     0.024649   1.562008   0.746936                   \n",
      "   709     0.024986   1.565177   0.748378                   \n",
      "   710     0.025227   1.532459   0.753425                   \n",
      "   711     0.024304   1.543897   0.751262                   \n",
      "   712     0.023038   1.571465   0.744052                   \n",
      "   713     0.021243   1.570524   0.743331                   \n",
      "   714     0.021839   1.570362   0.747657                   \n",
      "   715     0.023318   1.562165   0.750541                   \n",
      "   716     0.023397   1.561834   0.745494                   \n",
      "   717     0.024654   1.559371   0.745494                  \n",
      "   718     0.023877   1.571403   0.74982                    \n",
      "   719     0.022456   1.586078   0.748378                   \n",
      "   720     0.022726   1.592135   0.751262                   \n",
      "   721     0.023422   1.584246   0.748378                   \n",
      "   722     0.023855   1.573434   0.746936                   \n",
      "   723     0.025222   1.573781   0.746936                   \n",
      "   724     0.025715   1.581951   0.749099                   \n",
      "   725     0.024483   1.587672   0.749099                   \n",
      "   726     0.023551   1.584477   0.74982                    \n",
      "   727     0.024798   1.595519   0.74982                   \n",
      "   728     0.02404    1.582422   0.745494                  \n",
      "   729     0.024258   1.57123    0.753425                   \n",
      "   730     0.0235     1.560826   0.747657                   \n",
      "   731     0.023336   1.573015   0.746215                   \n",
      "   732     0.023528   1.565954   0.741889                   \n",
      "   733     0.023701   1.574244   0.746936                  \n",
      "   734     0.023335   1.569381   0.744052                   \n",
      "   735     0.024367   1.579159   0.745494                   \n",
      "   736     0.023777   1.562286   0.749099                   \n",
      "   737     0.020614   1.556872   0.747657                   \n",
      "   738     0.018785   1.563337   0.751262                   \n",
      "   739     0.01851    1.582756   0.747657                   \n",
      "   740     0.017989   1.582135   0.746936                  \n",
      "   741     0.018583   1.586437   0.749099                   \n",
      "   742     0.019705   1.585956   0.747657                   \n",
      "   743     0.019146   1.594497   0.747657                   \n",
      "   744     0.019569   1.57006    0.746215                   \n",
      "   745     0.019288   1.581195   0.748378                  \n",
      "   746     0.021544   1.587581   0.746215                   \n",
      "   747     0.021196   1.589857   0.744773                   \n",
      "   748     0.020786   1.596631   0.744052                   \n",
      "   749     0.018122   1.59139    0.748378                   \n",
      "   750     0.019697   1.592567   0.74261                    \n",
      "   751     0.019828   1.594433   0.748378                   \n",
      "   752     0.02122    1.587893   0.744052                   \n",
      "   753     0.020857   1.584295   0.746936                   \n",
      "   754     0.02195    1.575909   0.748378                   \n",
      "   755     0.022281   1.568543   0.748378                   \n",
      "   756     0.022116   1.580286   0.749099                   \n",
      "   757     0.023968   1.594864   0.744773                   \n",
      "   758     0.02458    1.603042   0.749099                   \n",
      "   759     0.021742   1.586515   0.746936                  \n",
      "   760     0.019981   1.589927   0.749099                   \n",
      "   761     0.019692   1.605304   0.744773                   \n",
      "   762     0.018816   1.608533   0.744773                   \n",
      "   763     0.018503   1.608098   0.739726                   \n",
      "   764     0.018565   1.59843    0.740447                   \n",
      "   765     0.018354   1.58569    0.746215                   \n",
      "   766     0.019438   1.608205   0.746215                   \n",
      "   767     0.021039   1.595922   0.741889                   \n",
      "   768     0.020503   1.591278   0.741168                   \n",
      "   769     0.019224   1.600487   0.746215                   \n",
      "   770     0.019656   1.594586   0.748378                  \n",
      "   771     0.019716   1.605468   0.74982                    \n",
      "   772     0.020371   1.612615   0.751262                   \n",
      "   773     0.019569   1.596555   0.74982                    \n",
      "   774     0.020213   1.59871    0.746936                   \n",
      "   775     0.020151   1.595182   0.744773                   \n",
      "   776     0.019056   1.5859     0.74982                    \n",
      "   777     0.01957    1.575183   0.750541                   \n",
      "   778     0.01836    1.586946   0.745494                   \n",
      "   779     0.018663   1.586982   0.743331                   \n",
      "   780     0.019166   1.576198   0.746936                   \n",
      "   781     0.019092   1.61206    0.740447                   \n",
      "   782     0.019591   1.599847   0.739005                   \n",
      "   783     0.02039    1.595097   0.741889                   \n",
      "   784     0.017523   1.602766   0.744773                   \n",
      "   785     0.019508   1.597043   0.739726                   \n",
      "   786     0.02028    1.616875   0.7354                     \n",
      "   787     0.020938   1.605398   0.739726                   \n",
      "   788     0.02107    1.616727   0.739726                   \n",
      "   789     0.020247   1.617153   0.740447                   \n",
      "   790     0.019533   1.602181   0.741889                   \n",
      "   791     0.019102   1.60359    0.745494                  \n",
      "   792     0.018017   1.603749   0.746215                   \n",
      "   793     0.017547   1.606365   0.744773                   \n",
      "   794     0.01808    1.609895   0.743331                   \n",
      "   795     0.016618   1.607315   0.745494                   \n",
      "   796     0.016839   1.598668   0.743331                   \n",
      "   797     0.016646   1.597122   0.744773                   \n",
      "   798     0.017221   1.595288   0.741168                   \n",
      "   799     0.018165   1.605923   0.747657                   \n",
      "   800     0.017595   1.606485   0.745494                   \n",
      "   801     0.018824   1.608865   0.748378                   \n",
      "   802     0.018241   1.592658   0.747657                  \n",
      "   803     0.018293   1.598866   0.749099                   \n",
      "   804     0.019011   1.599454   0.747657                   \n",
      "   805     0.0172     1.595752   0.745494                   \n",
      "   806     0.017005   1.604386   0.74261                    \n"
     ]
    },
    {
     "name": "stdout",
     "output_type": "stream",
     "text": [
      "   807     0.016887   1.587783   0.744052                  \n",
      "   808     0.017659   1.585135   0.744052                   \n",
      "   809     0.018587   1.587426   0.741889                   \n",
      "   810     0.018307   1.583809   0.739726                   \n",
      "   811     0.019085   1.588349   0.744052                   \n",
      "   812     0.018987   1.58773    0.748378                   \n",
      "   813     0.018876   1.592654   0.746215                   \n",
      "   814     0.017829   1.603145   0.744773                   \n",
      "   815     0.017046   1.588934   0.744052                   \n",
      "   816     0.018032   1.583987   0.746936                   \n",
      "   817     0.01729    1.581156   0.746936                   \n",
      "   818     0.01765    1.582512   0.744052                  \n",
      "   819     0.01644    1.591435   0.748378                   \n",
      "   820     0.015855   1.599404   0.741889                   \n",
      "   821     0.01538    1.602652   0.741889                   \n",
      "   822     0.015502   1.597507   0.741889                   \n",
      "   823     0.015397   1.593375   0.74261                    \n",
      "   824     0.01686    1.593235   0.744773                  \n",
      "   825     0.016562   1.599286   0.741889                   \n",
      "   826     0.017704   1.612073   0.739726                   \n",
      "   827     0.016483   1.613546   0.739726                  \n",
      "   828     0.016842   1.608458   0.74261                    \n",
      "   829     0.016493   1.599424   0.746215                   \n",
      "   830     0.015404   1.600898   0.746215                   \n",
      "   831     0.016047   1.597712   0.743331                   \n",
      "   832     0.016772   1.605909   0.741889                   \n",
      "   833     0.016124   1.6029     0.74261                    \n",
      "   834     0.017232   1.597979   0.745494                   \n",
      "   835     0.017375   1.598468   0.741168                   \n",
      "   836     0.016874   1.596814   0.74261                    \n",
      "   837     0.016777   1.60633    0.74261                    \n",
      "   838     0.017183   1.608542   0.739005                   \n",
      "   839     0.016273   1.593233   0.736842                   \n",
      "   840     0.015277   1.607998   0.740447                   \n",
      "   841     0.016613   1.602933   0.743331                   \n",
      "   842     0.015548   1.60134    0.74261                   \n",
      "   843     0.016458   1.609579   0.741889                   \n",
      "   844     0.015932   1.609588   0.74261                    \n",
      "   845     0.015155   1.613881   0.741889                   \n",
      "   846     0.016683   1.61097    0.744773                   \n",
      "   847     0.01548    1.612475   0.74261                    \n",
      "   848     0.016208   1.604839   0.739726                   \n",
      "   849     0.015348   1.611301   0.743331                   \n",
      "   850     0.015601   1.605599   0.740447                   \n",
      "   851     0.015033   1.617417   0.741889                   \n",
      "   852     0.017053   1.60743    0.743331                  \n",
      "   853     0.016531   1.604517   0.744773                   \n",
      "   854     0.016861   1.616081   0.743331                   \n",
      "   855     0.01775    1.606484   0.747657                   \n",
      "   856     0.017784   1.601937   0.74261                    \n",
      "   857     0.017593   1.604801   0.741889                   \n",
      "   858     0.016638   1.610077   0.74261                    \n",
      "   859     0.01669    1.600291   0.743331                   \n",
      "   860     0.016161   1.596827   0.744052                   \n",
      "   861     0.015446   1.604497   0.741168                   \n",
      "   862     0.015807   1.599576   0.743331                   \n",
      "   863     0.016194   1.59507    0.741889                   \n",
      "   864     0.015087   1.597281   0.744773                   \n",
      "   865     0.015184   1.604537   0.740447                   \n",
      "   866     0.016004   1.600093   0.745494                   \n",
      "   867     0.014939   1.601246   0.744052                   \n",
      "   868     0.015319   1.594976   0.741889                   \n",
      "   869     0.015157   1.599116   0.744773                   \n",
      "   870     0.013794   1.601091   0.74261                    \n",
      "   871     0.014421   1.608276   0.739726                   \n",
      "   872     0.014733   1.610792   0.743331                   \n",
      "   873     0.013719   1.602626   0.741889                   \n",
      "   874     0.014266   1.612316   0.744052                   \n",
      "   875     0.014621   1.613851   0.74261                    \n",
      "   876     0.013214   1.609113   0.74261                    \n",
      "   877     0.012785   1.615193   0.741168                   \n",
      "   878     0.013515   1.614249   0.741889                   \n",
      "   879     0.013063   1.616111   0.744773                   \n",
      "   880     0.013891   1.614612   0.744052                   \n",
      "   881     0.014214   1.606853   0.741168                   \n",
      "   882     0.013204   1.605199   0.74261                    \n",
      "   883     0.014705   1.610138   0.744773                  \n",
      "   884     0.014701   1.610453   0.741889                   \n",
      "   885     0.015022   1.613085   0.746215                   \n",
      "   886     0.014688   1.612283   0.741889                   \n",
      "   887     0.015074   1.597003   0.744052                   \n",
      "   888     0.014582   1.608393   0.747657                   \n",
      "   889     0.014577   1.615833   0.747657                  \n",
      "   890     0.014744   1.619031   0.745494                   \n",
      "   891     0.015256   1.607208   0.74261                    \n",
      "   892     0.015568   1.617497   0.739726                   \n",
      "   893     0.014804   1.597381   0.74261                    \n",
      "   894     0.015296   1.606963   0.745494                   \n",
      "   895     0.015774   1.604763   0.744773                   \n",
      "   896     0.015826   1.60784    0.747657                   \n",
      "   897     0.016142   1.609912   0.744052                   \n",
      "   898     0.015377   1.607384   0.746936                   \n",
      "   899     0.015163   1.610597   0.747657                   \n",
      "   900     0.014374   1.614563   0.739726                   \n",
      "   901     0.014068   1.611417   0.741889                   \n",
      "   902     0.014221   1.621957   0.745494                   \n",
      "   903     0.01398    1.612481   0.74261                    \n",
      "   904     0.015383   1.607579   0.741889                   \n",
      "   905     0.013893   1.605803   0.74261                   \n",
      "   906     0.014179   1.606652   0.741889                   \n",
      "   907     0.014741   1.615181   0.744052                   \n",
      "   908     0.013815   1.613259   0.743331                   \n",
      "   909     0.014894   1.612669   0.744052                   \n",
      "   910     0.01399    1.613811   0.740447                   \n",
      "   911     0.015249   1.617811   0.74261                    \n",
      "   912     0.013832   1.616889   0.741168                  \n",
      "   913     0.015061   1.611662   0.740447                   \n",
      "   914     0.014203   1.614472   0.739005                   \n",
      "   915     0.013346   1.61688    0.740447                   \n",
      "   916     0.01306    1.615616   0.741889                   \n",
      "   917     0.013251   1.615377   0.739726                   \n",
      "   918     0.014117   1.613622   0.741168                   \n",
      "   919     0.013974   1.610798   0.739726                  \n",
      "   920     0.013658   1.619067   0.741889                   \n",
      "   921     0.014187   1.625982   0.740447                   \n",
      "   922     0.014159   1.611386   0.743331                   \n",
      "   923     0.014437   1.620307   0.741889                   \n",
      "   924     0.013654   1.619636   0.746215                  \n",
      "   925     0.013833   1.619289   0.744773                   \n",
      "   926     0.01329    1.621053   0.74261                    \n",
      "   927     0.014792   1.607742   0.746215                   \n",
      "   928     0.014945   1.609989   0.743331                   \n",
      "   929     0.015259   1.607231   0.743331                   \n",
      "   930     0.015065   1.611854   0.747657                   \n",
      "   931     0.015321   1.607167   0.744773                   \n",
      "   932     0.015037   1.606308   0.746215                   \n",
      "   933     0.014063   1.61094    0.744773                   \n",
      "   934     0.014993   1.603132   0.747657                  \n",
      "   935     0.014756   1.608585   0.745494                   \n",
      "   936     0.012615   1.604061   0.744052                   \n",
      "   937     0.013753   1.614729   0.743331                   \n",
      "   938     0.014383   1.610389   0.747657                   \n",
      "   939     0.013596   1.612963   0.746215                   \n",
      "   940     0.014066   1.614273   0.746215                   \n"
     ]
    },
    {
     "name": "stdout",
     "output_type": "stream",
     "text": [
      "   941     0.01492    1.610314   0.744052                   \n",
      "   942     0.014793   1.606508   0.744052                   \n",
      "   943     0.013762   1.618627   0.743331                   \n",
      "   944     0.01418    1.617717   0.744052                   \n",
      "   945     0.01368    1.617701   0.743331                   \n",
      "   946     0.014231   1.606227   0.746936                   \n",
      "   947     0.012918   1.605962   0.743331                   \n",
      "   948     0.013174   1.621758   0.74261                    \n",
      "   949     0.013368   1.622025   0.743331                   \n",
      "   950     0.012174   1.619059   0.743331                   \n",
      "   951     0.013134   1.617426   0.744052                   \n",
      "   952     0.013174   1.612274   0.743331                   \n",
      "   953     0.013755   1.611636   0.745494                   \n",
      "   954     0.014577   1.613724   0.744052                   \n",
      "   955     0.014106   1.61016    0.744773                   \n",
      "   956     0.014036   1.615621   0.743331                   \n",
      "   957     0.015006   1.61657    0.741889                   \n",
      "   958     0.013474   1.619139   0.74261                    \n",
      "   959     0.012802   1.620454   0.744052                   \n",
      "   960     0.014203   1.618978   0.741889                   \n",
      "   961     0.012929   1.624929   0.741168                   \n",
      "   962     0.013552   1.614695   0.741889                   \n",
      "   963     0.013202   1.62457    0.743331                   \n",
      "   964     0.012071   1.622238   0.741889                   \n",
      "   965     0.012422   1.622439   0.746215                   \n",
      "   966     0.013427   1.62369    0.744773                   \n",
      "   967     0.013401   1.625433   0.741889                   \n",
      "   968     0.013769   1.619545   0.745494                   \n",
      "   969     0.013437   1.615516   0.74261                    \n",
      "   970     0.013094   1.628433   0.743331                   \n",
      "   971     0.013013   1.616212   0.744773                   \n",
      "   972     0.014134   1.615092   0.745494                   \n",
      "   973     0.013599   1.620842   0.741168                   \n",
      "   974     0.013991   1.621555   0.745494                   \n",
      "   975     0.013573   1.617685   0.741168                  \n",
      "   976     0.013629   1.616991   0.74261                    \n",
      "   977     0.013437   1.619088   0.741168                   \n",
      "   978     0.01347    1.614078   0.743331                  \n",
      "   979     0.014142   1.617451   0.745494                   \n",
      "   980     0.013071   1.619459   0.741889                   \n",
      "   981     0.012506   1.618474   0.744773                   \n",
      "   982     0.013452   1.619628   0.741889                   \n",
      "   983     0.014131   1.624412   0.739726                   \n",
      "   984     0.015362   1.621743   0.741168                   \n",
      "   985     0.014607   1.618406   0.74261                    \n",
      "   986     0.015476   1.625094   0.743331                   \n",
      "   987     0.014669   1.617497   0.74261                    \n",
      "   988     0.015425   1.627539   0.74261                    \n",
      "   989     0.014754   1.629295   0.74261                    \n",
      "   990     0.015132   1.623695   0.741889                   \n",
      "   991     0.013574   1.619607   0.744773                   \n",
      "   992     0.013832   1.624022   0.744052                   \n",
      "   993     0.014018   1.617012   0.741168                   \n",
      "   994     0.012943   1.614001   0.744052                  \n",
      "   995     0.013257   1.617128   0.74261                    \n",
      "   996     0.013448   1.624996   0.743331                   \n",
      "   997     0.01383    1.619706   0.741168                   \n",
      "   998     0.014389   1.618757   0.740447                   \n",
      "   999     0.014983   1.618329   0.741889                   \n",
      "   1000    0.012913   1.622259   0.741168                   \n",
      "   1001    0.013776   1.626038   0.743331                   \n",
      "   1002    0.013806   1.622289   0.745494                   \n",
      "   1003    0.012989   1.618218   0.74261                    \n",
      "   1004    0.014223   1.622715   0.744773                   \n",
      "   1005    0.013916   1.616307   0.741889                   \n",
      "   1006    0.01369    1.629808   0.74261                    \n",
      "   1007    0.014513   1.624633   0.74261                    \n",
      "   1008    0.013391   1.616354   0.741168                   \n",
      "   1009    0.012857   1.61591    0.744773                  \n",
      "   1010    0.011612   1.615421   0.744052                   \n",
      "   1011    0.01322    1.622354   0.74261                    \n",
      "   1012    0.012799   1.62186    0.740447                   \n",
      "   1013    0.013259   1.615201   0.74261                    \n",
      "   1014    0.01314    1.617695   0.741889                   \n",
      "   1015    0.014277   1.62715    0.741889                   \n",
      "   1016    0.014403   1.621018   0.744052                   \n",
      "   1017    0.014002   1.620978   0.744052                   \n",
      "   1018    0.014266   1.625603   0.744773                   \n",
      "   1019    0.013856   1.620454   0.744773                   \n",
      "   1020    0.014471   1.626398   0.741168                   \n",
      "   1021    0.012552   1.622911   0.743331                   \n",
      "   1022    0.012794   1.620834   0.740447                  \n",
      "\n",
      "12 class average, cyclic learning\n",
      "0.7404470009690322\n",
      "0.0\n"
     ]
    }
   ],
   "source": [
    "label_csv = f'{PATH}12cls_rmsaltol.csv'\n",
    "#n = len(list(open(label_csv))) - 1\n",
    "vacc =[]\n",
    "reps=5\n",
    "start=0\n",
    "bs=200\n",
    "valididx_base = '12cls_val_ids'\n",
    "\n",
    "for rep in range(reps):\n",
    "    print(rep+start)\n",
    "    val_idxs = get_val_idx_fromfile(f'{PATH}'+valididx_base+str(rep+start)+'.csv')\n",
    "    data = get_data(sz, bs, val_idxs, label_csv)\n",
    "    learn = ConvLearner.pretrained(arch, data, precompute=True)\n",
    "    val_loss, val_acc = learn.fit(1e-2, 10, cycle_len=1, cycle_mult=2)\n",
    "    vacc.append(val_acc)\n",
    "print('12 class average, cyclic learning')\n",
    "print(np.mean(vacc))\n",
    "print(np.std(vacc))"
   ]
  },
  {
   "cell_type": "code",
   "execution_count": 14,
   "metadata": {},
   "outputs": [
    {
     "name": "stdout",
     "output_type": "stream",
     "text": [
      "[[0.87 0.   0.04 0.02 0.05 0.   0.   0.01 0.   0.   0.   0.  ]\n",
      " [0.08 0.65 0.05 0.03 0.15 0.   0.   0.   0.01 0.   0.03 0.  ]\n",
      " [0.12 0.02 0.73 0.02 0.06 0.   0.01 0.   0.01 0.02 0.   0.  ]\n",
      " [0.1  0.   0.06 0.64 0.15 0.   0.01 0.01 0.   0.01 0.01 0.01]\n",
      " [0.08 0.02 0.03 0.04 0.79 0.   0.01 0.01 0.   0.   0.01 0.  ]\n",
      " [0.09 0.   0.13 0.   0.26 0.52 0.   0.   0.   0.   0.   0.  ]\n",
      " [0.22 0.02 0.04 0.06 0.1  0.   0.45 0.08 0.   0.04 0.   0.  ]\n",
      " [0.21 0.02 0.17 0.08 0.08 0.   0.   0.45 0.   0.   0.   0.  ]\n",
      " [0.09 0.   0.   0.09 0.06 0.   0.03 0.   0.7  0.   0.   0.03]\n",
      " [0.03 0.   0.07 0.07 0.07 0.   0.   0.   0.   0.76 0.   0.  ]\n",
      " [0.35 0.   0.05 0.05 0.15 0.   0.   0.   0.   0.   0.4  0.  ]\n",
      " [0.   0.   0.2  0.   0.4  0.   0.   0.2  0.   0.   0.   0.2 ]]\n"
     ]
    },
    {
     "data": {
      "image/png": "[encoded data removed]",
      "text/plain": [
       "<Figure size 720x720 with 2 Axes>"
      ]
     },
     "metadata": {
      "needs_background": "light"
     },
     "output_type": "display_data"
    }
   ],
   "source": [
    "### 12-class confusion matrix\n",
    "plt.rcParams['figure.figsize'] = [10, 10]   #### make the plot size bigger than the others\n",
    "log_preds,y = learn.TTA()\n",
    "probs = np.mean(np.exp(log_preds),0)\n",
    "preds = np.argmax(probs, axis=1)\n",
    "probs = probs[:,1]\n",
    "cm = confusion_matrix(y, preds)\n",
    "adj = cm.transpose()/cm.sum(axis=1)\n",
    "adj = adj.round(2)\n",
    "plot_confusion_matrix(adj.transpose(), data.classes)"
   ]
  },
  {
   "cell_type": "code",
   "execution_count": null,
   "metadata": {},
   "outputs": [],
   "source": []
  }
 ],
 "metadata": {
  "kernelspec": {
   "display_name": "fastaiold",
   "language": "python",
   "name": "fastai"
  },
  "language_info": {
   "codemirror_mode": {
    "name": "ipython",
    "version": 3
   },
   "file_extension": ".py",
   "mimetype": "text/x-python",
   "name": "python",
   "nbconvert_exporter": "python",
   "pygments_lexer": "ipython3",
   "version": "3.6.6"
  },
  "toc": {
   "nav_menu": {},
   "number_sections": true,
   "sideBar": true,
   "skip_h1_title": false,
   "title_cell": "Table of Contents",
   "title_sidebar": "Contents",
   "toc_cell": false,
   "toc_position": {
    "height": "calc(100% - 180px)",
    "left": "10px",
    "top": "150px",
    "width": "180.188px"
   },
   "toc_section_display": true,
   "toc_window_display": true
  },
  "varInspector": {
   "cols": {
    "lenName": 16,
    "lenType": 16,
    "lenVar": 40
   },
   "kernels_config": {
    "python": {
     "delete_cmd_postfix": "",
     "delete_cmd_prefix": "del ",
     "library": "var_list.py",
     "varRefreshCmd": "print(var_dic_list())"
    },
    "r": {
     "delete_cmd_postfix": ") ",
     "delete_cmd_prefix": "rm(",
     "library": "var_list.r",
     "varRefreshCmd": "cat(var_dic_list()) "
    }
   },
   "types_to_exclude": [
    "module",
    "function",
    "builtin_function_or_method",
    "instance",
    "_Feature"
   ],
   "window_display": false
  },
  "widgets": {
   "application/vnd.jupyter.widget-state+json": {
    "state": {
     "0147ea39a83144aa99e7877a908ca502": {
      "model_module": "@jupyter-widgets/base",
      "model_module_version": "1.0.0",
      "model_name": "LayoutModel",
      "state": {}
     },
     "02af08793c9a4c5ba0cbd7462a715f89": {
      "model_module": "@jupyter-widgets/controls",
      "model_module_version": "1.1.0",
      "model_name": "ProgressStyleModel",
      "state": {
       "description_width": ""
      }
     },
     "03c7476e32ce48c2b38a7023c2dcc0a1": {
      "model_module": "@jupyter-widgets/base",
      "model_module_version": "1.0.0",
      "model_name": "LayoutModel",
      "state": {}
     },
     "075434e4b0234c5fa61c8d63fec51679": {
      "model_module": "@jupyter-widgets/controls",
      "model_module_version": "1.1.0",
      "model_name": "ProgressStyleModel",
      "state": {
       "description_width": ""
      }
     },
     "08ba1e10c1a641f7876680a632f6821d": {
      "model_module": "@jupyter-widgets/controls",
      "model_module_version": "1.1.0",
      "model_name": "IntProgressModel",
      "state": {
       "bar_style": "success",
       "layout": "IPY_MODEL_b0edcf9ef0754ca4bb7fe6e8790c464b",
       "max": 6,
       "style": "IPY_MODEL_c13bdace91114d639b408aa120c97f79",
       "value": 6
      }
     },
     "0b49f5119c6d4a25bb575a20e33fe219": {
      "model_module": "@jupyter-widgets/base",
      "model_module_version": "1.0.0",
      "model_name": "LayoutModel",
      "state": {}
     },
     "12cc98b1fc954667bd49c08972278f1d": {
      "model_module": "@jupyter-widgets/controls",
      "model_module_version": "1.1.0",
      "model_name": "ProgressStyleModel",
      "state": {
       "description_width": ""
      }
     },
     "13cbbf3a554a40f09d40df39c2cacf47": {
      "model_module": "@jupyter-widgets/base",
      "model_module_version": "1.0.0",
      "model_name": "LayoutModel",
      "state": {}
     },
     "148c1abd5f1747a2a787c09cef3071bc": {
      "model_module": "@jupyter-widgets/controls",
      "model_module_version": "1.1.0",
      "model_name": "HTMLModel",
      "state": {
       "layout": "IPY_MODEL_902c060a37b4491788462dce6be1798b",
       "style": "IPY_MODEL_88db019106ca4893816ea780e567a175",
       "value": "100% 3/3 [16:30&lt;00:00, 330.17s/it]"
      }
     },
     "16993380d0fa42b888a52dbf1bb42f20": {
      "model_module": "@jupyter-widgets/controls",
      "model_module_version": "1.1.0",
      "model_name": "IntProgressModel",
      "state": {
       "bar_style": "success",
       "layout": "IPY_MODEL_c74dedf09f57490a9f1ac9af54e14bf3",
       "max": 6,
       "style": "IPY_MODEL_557d35c901f54575b5963e3b7ce932a3",
       "value": 6
      }
     },
     "19c5557812814cb28bc7e0cc80c65c5f": {
      "model_module": "@jupyter-widgets/base",
      "model_module_version": "1.0.0",
      "model_name": "LayoutModel",
      "state": {}
     },
     "1c241c0e5b5844508c1c50e2a7c09b1b": {
      "model_module": "@jupyter-widgets/base",
      "model_module_version": "1.0.0",
      "model_name": "LayoutModel",
      "state": {}
     },
     "1c509f99160e41d5af6e565b1541e571": {
      "model_module": "@jupyter-widgets/controls",
      "model_module_version": "1.1.0",
      "model_name": "HTMLModel",
      "state": {
       "layout": "IPY_MODEL_9352e3fd2af54e09ad67afb4ac446b27",
       "style": "IPY_MODEL_62e7ecfbbea7427385deb25ed2f4232f",
       "value": "100% 6/6 [00:00&lt;00:00, 380.26it/s]"
      }
     },
     "1e2f1c40607144eb9cb7b9e257d06f35": {
      "model_module": "@jupyter-widgets/base",
      "model_module_version": "1.0.0",
      "model_name": "LayoutModel",
      "state": {}
     },
     "1fc90792a2b74c38aaf73659c3756831": {
      "model_module": "@jupyter-widgets/base",
      "model_module_version": "1.0.0",
      "model_name": "LayoutModel",
      "state": {}
     },
     "201ae86e437e4b5390782e9df272326d": {
      "model_module": "@jupyter-widgets/controls",
      "model_module_version": "1.1.0",
      "model_name": "HBoxModel",
      "state": {
       "children": [
        "IPY_MODEL_c8871c57d7bd4b61a99633668fb44621",
        "IPY_MODEL_38eb37d7293d4273a6ae06b5a451617d"
       ],
       "layout": "IPY_MODEL_1c241c0e5b5844508c1c50e2a7c09b1b"
      }
     },
     "20bfce64bf354e2398353b6a2a31d0e5": {
      "model_module": "@jupyter-widgets/base",
      "model_module_version": "1.0.0",
      "model_name": "LayoutModel",
      "state": {}
     },
     "21e75994f5e749748dd5693819e51d93": {
      "model_module": "@jupyter-widgets/controls",
      "model_module_version": "1.1.0",
      "model_name": "DescriptionStyleModel",
      "state": {
       "description_width": ""
      }
     },
     "22952b3bfa674aff898e452b30bd319e": {
      "model_module": "@jupyter-widgets/controls",
      "model_module_version": "1.1.0",
      "model_name": "DescriptionStyleModel",
      "state": {
       "description_width": ""
      }
     },
     "26e2b0e7abb24e3fad1b5c0c166aa44d": {
      "model_module": "@jupyter-widgets/controls",
      "model_module_version": "1.1.0",
      "model_name": "IntProgressModel",
      "state": {
       "bar_style": "success",
       "description": "Epoch",
       "layout": "IPY_MODEL_363595af2f5f4ad3a3f5a9e46069d58e",
       "max": 5,
       "style": "IPY_MODEL_02af08793c9a4c5ba0cbd7462a715f89",
       "value": 5
      }
     },
     "288366a4c5ba435286c34d6d5ad69201": {
      "model_module": "@jupyter-widgets/controls",
      "model_module_version": "1.1.0",
      "model_name": "HBoxModel",
      "state": {
       "children": [
        "IPY_MODEL_33f7abed940a4b24b01110da8ec67ddc",
        "IPY_MODEL_93f4380114fe48b88db18d0c97736fd4"
       ],
       "layout": "IPY_MODEL_5b17418f64954c14843a914942f8ce3d"
      }
     },
     "292be092bc964dd7a48bc62c906f5814": {
      "model_module": "@jupyter-widgets/controls",
      "model_module_version": "1.1.0",
      "model_name": "ProgressStyleModel",
      "state": {
       "description_width": ""
      }
     },
     "2d1dfcb285154a7bac2db184a87f3c4e": {
      "model_module": "@jupyter-widgets/base",
      "model_module_version": "1.0.0",
      "model_name": "LayoutModel",
      "state": {}
     },
     "2ff92f760a2b46a99576ab77daccac1d": {
      "model_module": "@jupyter-widgets/base",
      "model_module_version": "1.0.0",
      "model_name": "LayoutModel",
      "state": {}
     },
     "33ce7c9b732e4715ae12b71669addfdf": {
      "model_module": "@jupyter-widgets/controls",
      "model_module_version": "1.1.0",
      "model_name": "IntProgressModel",
      "state": {
       "bar_style": "success",
       "layout": "IPY_MODEL_20bfce64bf354e2398353b6a2a31d0e5",
       "max": 6,
       "style": "IPY_MODEL_830aa543858f4a54a14aad440bcbde34",
       "value": 6
      }
     },
     "33f7abed940a4b24b01110da8ec67ddc": {
      "model_module": "@jupyter-widgets/controls",
      "model_module_version": "1.1.0",
      "model_name": "IntProgressModel",
      "state": {
       "bar_style": "success",
       "layout": "IPY_MODEL_7ba0d94e2ef544fe9126eacee6588468",
       "max": 6,
       "style": "IPY_MODEL_8c8cb52ff5e54c55a297af7571a105ea",
       "value": 6
      }
     },
     "363595af2f5f4ad3a3f5a9e46069d58e": {
      "model_module": "@jupyter-widgets/base",
      "model_module_version": "1.0.0",
      "model_name": "LayoutModel",
      "state": {}
     },
     "37f00a662a3c4b5f9f29db6903cfc5ba": {
      "model_module": "@jupyter-widgets/controls",
      "model_module_version": "1.1.0",
      "model_name": "DescriptionStyleModel",
      "state": {
       "description_width": ""
      }
     },
     "37faed3c96f343e895d8f29ab07137c0": {
      "model_module": "@jupyter-widgets/base",
      "model_module_version": "1.0.0",
      "model_name": "LayoutModel",
      "state": {}
     },
     "38eb37d7293d4273a6ae06b5a451617d": {
      "model_module": "@jupyter-widgets/controls",
      "model_module_version": "1.1.0",
      "model_name": "HTMLModel",
      "state": {
       "layout": "IPY_MODEL_42c23fec7e814a9aaf39ffa59c0ffe20",
       "style": "IPY_MODEL_7163788d004d4c15b0b0137a654079a0",
       "value": "100% 7/7 [35:35&lt;00:00, 305.08s/it]"
      }
     },
     "39cf7d6b5e98460e9a621f1d74e32fad": {
      "model_module": "@jupyter-widgets/controls",
      "model_module_version": "1.1.0",
      "model_name": "HTMLModel",
      "state": {
       "layout": "IPY_MODEL_cb554ddf38bb4597b282655ee74ca321",
       "style": "IPY_MODEL_c45beabad9d34af5b39ce603b5308ef9",
       "value": "100% 5/5 [27:26&lt;00:00, 329.38s/it]"
      }
     },
     "39d7df82d70b40df9f1171dad9ce2b4c": {
      "model_module": "@jupyter-widgets/controls",
      "model_module_version": "1.1.0",
      "model_name": "DescriptionStyleModel",
      "state": {
       "description_width": ""
      }
     },
     "3a1160614abc4724b73cc9bc2e0d0d46": {
      "model_module": "@jupyter-widgets/controls",
      "model_module_version": "1.1.0",
      "model_name": "HTMLModel",
      "state": {
       "layout": "IPY_MODEL_19c5557812814cb28bc7e0cc80c65c5f",
       "style": "IPY_MODEL_87707de469bc4c4bb2ba2a2ed7322de1",
       "value": "100% 5/5 [00:28&lt;00:00,  5.70s/it]"
      }
     },
     "3b2e29458fdc49d0864a7fc9a1faafb6": {
      "model_module": "@jupyter-widgets/base",
      "model_module_version": "1.0.0",
      "model_name": "LayoutModel",
      "state": {}
     },
     "3ed035ff92d947ad9059d4bc03f2576c": {
      "model_module": "@jupyter-widgets/controls",
      "model_module_version": "1.1.0",
      "model_name": "HBoxModel",
      "state": {
       "children": [
        "IPY_MODEL_16993380d0fa42b888a52dbf1bb42f20",
        "IPY_MODEL_a52bd3eee7aa4e9093ee525fc42ff232"
       ],
       "layout": "IPY_MODEL_66e271ee790148eb89ae51b9b22216aa"
      }
     },
     "40060908ceee46fb859195274eca3da8": {
      "model_module": "@jupyter-widgets/controls",
      "model_module_version": "1.1.0",
      "model_name": "HBoxModel",
      "state": {
       "children": [
        "IPY_MODEL_4b3362ffeac948e490ce91f1e0786f2e",
        "IPY_MODEL_c09f764cc1c74e3aa75fea864a8d21f3"
       ],
       "layout": "IPY_MODEL_e6926f2efb5340528a00c5045376c380"
      }
     },
     "405077ae66ac44afbd35d90a6afd6cab": {
      "model_module": "@jupyter-widgets/base",
      "model_module_version": "1.0.0",
      "model_name": "LayoutModel",
      "state": {}
     },
     "41a9d48c29ef4752bcd2ddc7076dac3c": {
      "model_module": "@jupyter-widgets/base",
      "model_module_version": "1.0.0",
      "model_name": "LayoutModel",
      "state": {}
     },
     "42c23fec7e814a9aaf39ffa59c0ffe20": {
      "model_module": "@jupyter-widgets/base",
      "model_module_version": "1.0.0",
      "model_name": "LayoutModel",
      "state": {}
     },
     "43f1cb9394c5422798a91c1b6b0a5907": {
      "model_module": "@jupyter-widgets/base",
      "model_module_version": "1.0.0",
      "model_name": "LayoutModel",
      "state": {}
     },
     "45a9f25bf3964af68dfce8bbb2091917": {
      "model_module": "@jupyter-widgets/controls",
      "model_module_version": "1.1.0",
      "model_name": "DescriptionStyleModel",
      "state": {
       "description_width": ""
      }
     },
     "4654ebf91a484cb8b153920fb89bb522": {
      "model_module": "@jupyter-widgets/base",
      "model_module_version": "1.0.0",
      "model_name": "LayoutModel",
      "state": {}
     },
     "4b3362ffeac948e490ce91f1e0786f2e": {
      "model_module": "@jupyter-widgets/controls",
      "model_module_version": "1.1.0",
      "model_name": "IntProgressModel",
      "state": {
       "bar_style": "success",
       "layout": "IPY_MODEL_67e1b7b183484f03b2f63c22c44e8713",
       "max": 6,
       "style": "IPY_MODEL_12cc98b1fc954667bd49c08972278f1d",
       "value": 6
      }
     },
     "4c5e108b0b9145cb9987a673dda89bb6": {
      "model_module": "@jupyter-widgets/base",
      "model_module_version": "1.0.0",
      "model_name": "LayoutModel",
      "state": {}
     },
     "4d7cbd1c9b0b45359d4d31ad4e50e441": {
      "model_module": "@jupyter-widgets/base",
      "model_module_version": "1.0.0",
      "model_name": "LayoutModel",
      "state": {}
     },
     "54f04d9c381446649b742e1242de6953": {
      "model_module": "@jupyter-widgets/controls",
      "model_module_version": "1.1.0",
      "model_name": "IntProgressModel",
      "state": {
       "bar_style": "success",
       "description": "Epoch",
       "layout": "IPY_MODEL_f6539e378c294a6c955da278da4ade4e",
       "max": 2,
       "style": "IPY_MODEL_b1cddc992f864976b0f4132e0c4819f4",
       "value": 2
      }
     },
     "557d35c901f54575b5963e3b7ce932a3": {
      "model_module": "@jupyter-widgets/controls",
      "model_module_version": "1.1.0",
      "model_name": "ProgressStyleModel",
      "state": {
       "description_width": ""
      }
     },
     "5791e4167111408ca3f1be2e16334803": {
      "model_module": "@jupyter-widgets/base",
      "model_module_version": "1.0.0",
      "model_name": "LayoutModel",
      "state": {}
     },
     "5b0ec0306b6440c1a068951bf0d4a50c": {
      "model_module": "@jupyter-widgets/controls",
      "model_module_version": "1.1.0",
      "model_name": "ProgressStyleModel",
      "state": {
       "description_width": ""
      }
     },
     "5b17418f64954c14843a914942f8ce3d": {
      "model_module": "@jupyter-widgets/base",
      "model_module_version": "1.0.0",
      "model_name": "LayoutModel",
      "state": {}
     },
     "5b494db622384a7fabd7ed86d7f0575c": {
      "model_module": "@jupyter-widgets/controls",
      "model_module_version": "1.1.0",
      "model_name": "HBoxModel",
      "state": {
       "children": [
        "IPY_MODEL_26e2b0e7abb24e3fad1b5c0c166aa44d",
        "IPY_MODEL_c05cfeeac9a04c68a7387dc65bf48227"
       ],
       "layout": "IPY_MODEL_4654ebf91a484cb8b153920fb89bb522"
      }
     },
     "5c13867f02614d49bc038af563f5a5a2": {
      "model_module": "@jupyter-widgets/controls",
      "model_module_version": "1.1.0",
      "model_name": "IntProgressModel",
      "state": {
       "bar_style": "success",
       "layout": "IPY_MODEL_7234b227a46b404598576e19a230a94e",
       "max": 6,
       "style": "IPY_MODEL_7ae2ea4a6e144242ad504c2032fbb9b9",
       "value": 6
      }
     },
     "5d3aa8de854a491485458bcaf88b9de4": {
      "model_module": "@jupyter-widgets/controls",
      "model_module_version": "1.1.0",
      "model_name": "HBoxModel",
      "state": {
       "children": [
        "IPY_MODEL_c6a3a9d502b94ffba6cb6708c9762bd0",
        "IPY_MODEL_8d9389e09e1d44d88ffffdb83ac6f407"
       ],
       "layout": "IPY_MODEL_03c7476e32ce48c2b38a7023c2dcc0a1"
      }
     },
     "5f4033806f5144f28e0999110bf34612": {
      "model_module": "@jupyter-widgets/controls",
      "model_module_version": "1.1.0",
      "model_name": "IntProgressModel",
      "state": {
       "bar_style": "success",
       "description": "Epoch",
       "layout": "IPY_MODEL_e59a2233ae454d81ada1b8494763e7bc",
       "max": 2,
       "style": "IPY_MODEL_292be092bc964dd7a48bc62c906f5814",
       "value": 2
      }
     },
     "61defccfe9dc4330931ce420b9976dcd": {
      "model_module": "@jupyter-widgets/controls",
      "model_module_version": "1.1.0",
      "model_name": "HTMLModel",
      "state": {
       "layout": "IPY_MODEL_4d7cbd1c9b0b45359d4d31ad4e50e441",
       "style": "IPY_MODEL_45a9f25bf3964af68dfce8bbb2091917",
       "value": "100% 2/2 [10:08&lt;00:00, 304.26s/it]"
      }
     },
     "62e7ecfbbea7427385deb25ed2f4232f": {
      "model_module": "@jupyter-widgets/controls",
      "model_module_version": "1.1.0",
      "model_name": "DescriptionStyleModel",
      "state": {
       "description_width": ""
      }
     },
     "62e8fbf1622b4a36a186e7f319552990": {
      "model_module": "@jupyter-widgets/controls",
      "model_module_version": "1.1.0",
      "model_name": "IntProgressModel",
      "state": {
       "bar_style": "success",
       "description": "Epoch",
       "layout": "IPY_MODEL_41a9d48c29ef4752bcd2ddc7076dac3c",
       "max": 2,
       "style": "IPY_MODEL_5b0ec0306b6440c1a068951bf0d4a50c",
       "value": 2
      }
     },
     "65d9210f3d3345019a1fcf4ad82f1ae9": {
      "model_module": "@jupyter-widgets/base",
      "model_module_version": "1.0.0",
      "model_name": "LayoutModel",
      "state": {}
     },
     "66179fdeb4534eb281f2690ded33950e": {
      "model_module": "@jupyter-widgets/controls",
      "model_module_version": "1.1.0",
      "model_name": "DescriptionStyleModel",
      "state": {
       "description_width": ""
      }
     },
     "66e271ee790148eb89ae51b9b22216aa": {
      "model_module": "@jupyter-widgets/base",
      "model_module_version": "1.0.0",
      "model_name": "LayoutModel",
      "state": {}
     },
     "67e1b7b183484f03b2f63c22c44e8713": {
      "model_module": "@jupyter-widgets/base",
      "model_module_version": "1.0.0",
      "model_name": "LayoutModel",
      "state": {}
     },
     "7163788d004d4c15b0b0137a654079a0": {
      "model_module": "@jupyter-widgets/controls",
      "model_module_version": "1.1.0",
      "model_name": "DescriptionStyleModel",
      "state": {
       "description_width": ""
      }
     },
     "7234b227a46b404598576e19a230a94e": {
      "model_module": "@jupyter-widgets/base",
      "model_module_version": "1.0.0",
      "model_name": "LayoutModel",
      "state": {}
     },
     "77132b06e4ad40fdabdc0dd93922af21": {
      "model_module": "@jupyter-widgets/base",
      "model_module_version": "1.0.0",
      "model_name": "LayoutModel",
      "state": {}
     },
     "784cd320488247aa87d575558f81d06b": {
      "model_module": "@jupyter-widgets/base",
      "model_module_version": "1.0.0",
      "model_name": "LayoutModel",
      "state": {}
     },
     "7998921f656343ffadf133220692f859": {
      "model_module": "@jupyter-widgets/controls",
      "model_module_version": "1.1.0",
      "model_name": "IntProgressModel",
      "state": {
       "bar_style": "success",
       "description": "Epoch",
       "layout": "IPY_MODEL_0b49f5119c6d4a25bb575a20e33fe219",
       "max": 5,
       "style": "IPY_MODEL_cfeaf84bdbe34c7898e1ea8fc61b539c",
       "value": 5
      }
     },
     "7ad08fc0082a41bc882cedf6004206dd": {
      "model_module": "@jupyter-widgets/controls",
      "model_module_version": "1.1.0",
      "model_name": "HBoxModel",
      "state": {
       "children": [
        "IPY_MODEL_33ce7c9b732e4715ae12b71669addfdf",
        "IPY_MODEL_bc6e6b33b84344f094704454a0cf6f6b"
       ],
       "layout": "IPY_MODEL_2ff92f760a2b46a99576ab77daccac1d"
      }
     },
     "7adf432cd98f46df927bf9da9d94b182": {
      "model_module": "@jupyter-widgets/controls",
      "model_module_version": "1.1.0",
      "model_name": "DescriptionStyleModel",
      "state": {
       "description_width": ""
      }
     },
     "7ae2ea4a6e144242ad504c2032fbb9b9": {
      "model_module": "@jupyter-widgets/controls",
      "model_module_version": "1.1.0",
      "model_name": "ProgressStyleModel",
      "state": {
       "description_width": ""
      }
     },
     "7b215de0d6b64c3897c22bd817bbcb8d": {
      "model_module": "@jupyter-widgets/controls",
      "model_module_version": "1.1.0",
      "model_name": "IntProgressModel",
      "state": {
       "bar_style": "success",
       "description": "Epoch",
       "layout": "IPY_MODEL_1e2f1c40607144eb9cb7b9e257d06f35",
       "max": 3,
       "style": "IPY_MODEL_f38f8ae81eca43f9b1828369ebffd849",
       "value": 3
      }
     },
     "7ba0d94e2ef544fe9126eacee6588468": {
      "model_module": "@jupyter-widgets/base",
      "model_module_version": "1.0.0",
      "model_name": "LayoutModel",
      "state": {}
     },
     "8228413e70844312b5aa3128e3bea3ad": {
      "model_module": "@jupyter-widgets/controls",
      "model_module_version": "1.1.0",
      "model_name": "HTMLModel",
      "state": {
       "layout": "IPY_MODEL_890f789420e4416697cafbf732f38b95",
       "style": "IPY_MODEL_b52cba9c0daf49aab716b75c91137766",
       "value": "100% 2/2 [00:06&lt;00:00,  3.12s/it]"
      }
     },
     "830aa543858f4a54a14aad440bcbde34": {
      "model_module": "@jupyter-widgets/controls",
      "model_module_version": "1.1.0",
      "model_name": "ProgressStyleModel",
      "state": {
       "description_width": ""
      }
     },
     "868f105f38aa47b2b0223680dc202859": {
      "model_module": "@jupyter-widgets/base",
      "model_module_version": "1.0.0",
      "model_name": "LayoutModel",
      "state": {}
     },
     "87707de469bc4c4bb2ba2a2ed7322de1": {
      "model_module": "@jupyter-widgets/controls",
      "model_module_version": "1.1.0",
      "model_name": "DescriptionStyleModel",
      "state": {
       "description_width": ""
      }
     },
     "879f0f26c06041698336e79b9b92b0c8": {
      "model_module": "@jupyter-widgets/controls",
      "model_module_version": "1.1.0",
      "model_name": "HBoxModel",
      "state": {
       "children": [
        "IPY_MODEL_c19f1e5cf61444b5926c89b67c374dc8",
        "IPY_MODEL_148c1abd5f1747a2a787c09cef3071bc"
       ],
       "layout": "IPY_MODEL_b4a9636246544cd7a3ebcff56595bea2"
      }
     },
     "88db019106ca4893816ea780e567a175": {
      "model_module": "@jupyter-widgets/controls",
      "model_module_version": "1.1.0",
      "model_name": "DescriptionStyleModel",
      "state": {
       "description_width": ""
      }
     },
     "890f789420e4416697cafbf732f38b95": {
      "model_module": "@jupyter-widgets/base",
      "model_module_version": "1.0.0",
      "model_name": "LayoutModel",
      "state": {}
     },
     "8c8cb52ff5e54c55a297af7571a105ea": {
      "model_module": "@jupyter-widgets/controls",
      "model_module_version": "1.1.0",
      "model_name": "ProgressStyleModel",
      "state": {
       "description_width": ""
      }
     },
     "8d9389e09e1d44d88ffffdb83ac6f407": {
      "model_module": "@jupyter-widgets/controls",
      "model_module_version": "1.1.0",
      "model_name": "HTMLModel",
      "state": {
       "layout": "IPY_MODEL_1fc90792a2b74c38aaf73659c3756831",
       "style": "IPY_MODEL_66179fdeb4534eb281f2690ded33950e",
       "value": "100% 2/2 [00:06&lt;00:00,  3.17s/it]"
      }
     },
     "902c060a37b4491788462dce6be1798b": {
      "model_module": "@jupyter-widgets/base",
      "model_module_version": "1.0.0",
      "model_name": "LayoutModel",
      "state": {}
     },
     "91b150ff417c44d1bc68e66d1b3c5925": {
      "model_module": "@jupyter-widgets/controls",
      "model_module_version": "1.1.0",
      "model_name": "DescriptionStyleModel",
      "state": {
       "description_width": ""
      }
     },
     "9352e3fd2af54e09ad67afb4ac446b27": {
      "model_module": "@jupyter-widgets/base",
      "model_module_version": "1.0.0",
      "model_name": "LayoutModel",
      "state": {}
     },
     "93f4380114fe48b88db18d0c97736fd4": {
      "model_module": "@jupyter-widgets/controls",
      "model_module_version": "1.1.0",
      "model_name": "HTMLModel",
      "state": {
       "layout": "IPY_MODEL_b7e6303bb38542c9a8282079c33beca7",
       "style": "IPY_MODEL_21e75994f5e749748dd5693819e51d93",
       "value": "100% 6/6 [00:00&lt;00:00, 343.35it/s]"
      }
     },
     "956dbbddf33a476db031c3d1b8ad5b4e": {
      "model_module": "@jupyter-widgets/controls",
      "model_module_version": "1.1.0",
      "model_name": "HBoxModel",
      "state": {
       "children": [
        "IPY_MODEL_7998921f656343ffadf133220692f859",
        "IPY_MODEL_39cf7d6b5e98460e9a621f1d74e32fad"
       ],
       "layout": "IPY_MODEL_65d9210f3d3345019a1fcf4ad82f1ae9"
      }
     },
     "a19c0f9c5cb34e9e8cdfe5c356084b80": {
      "model_module": "@jupyter-widgets/controls",
      "model_module_version": "1.1.0",
      "model_name": "DescriptionStyleModel",
      "state": {
       "description_width": ""
      }
     },
     "a52bd3eee7aa4e9093ee525fc42ff232": {
      "model_module": "@jupyter-widgets/controls",
      "model_module_version": "1.1.0",
      "model_name": "HTMLModel",
      "state": {
       "layout": "IPY_MODEL_405077ae66ac44afbd35d90a6afd6cab",
       "style": "IPY_MODEL_fa7fbd7aa5ab41a5aaabfca1db46058e",
       "value": "100% 6/6 [00:00&lt;00:00, 377.47it/s]"
      }
     },
     "a6ba13af33984f1b96ed120d3798b035": {
      "model_module": "@jupyter-widgets/base",
      "model_module_version": "1.0.0",
      "model_name": "LayoutModel",
      "state": {}
     },
     "a6cf535c8f30471e947503cae6bdb611": {
      "model_module": "@jupyter-widgets/controls",
      "model_module_version": "1.1.0",
      "model_name": "IntProgressModel",
      "state": {
       "bar_style": "success",
       "description": "Epoch",
       "layout": "IPY_MODEL_e77a75b0e9b446318ef399e225003e65",
       "max": 7,
       "style": "IPY_MODEL_c8469a077e5449b69821e6b27b8e74e5",
       "value": 7
      }
     },
     "a7afeac8de60479e8c92248312fde8fc": {
      "model_module": "@jupyter-widgets/base",
      "model_module_version": "1.0.0",
      "model_name": "LayoutModel",
      "state": {}
     },
     "aad1581c410d48feb48e6b943c14bdb8": {
      "model_module": "@jupyter-widgets/controls",
      "model_module_version": "1.1.0",
      "model_name": "ProgressStyleModel",
      "state": {
       "description_width": ""
      }
     },
     "b0edcf9ef0754ca4bb7fe6e8790c464b": {
      "model_module": "@jupyter-widgets/base",
      "model_module_version": "1.0.0",
      "model_name": "LayoutModel",
      "state": {}
     },
     "b1258a718296423d9f4d9c0535aae63b": {
      "model_module": "@jupyter-widgets/controls",
      "model_module_version": "1.1.0",
      "model_name": "HTMLModel",
      "state": {
       "layout": "IPY_MODEL_3b2e29458fdc49d0864a7fc9a1faafb6",
       "style": "IPY_MODEL_37f00a662a3c4b5f9f29db6903cfc5ba",
       "value": "100% 3/3 [15:16&lt;00:00, 305.39s/it]"
      }
     },
     "b1cddc992f864976b0f4132e0c4819f4": {
      "model_module": "@jupyter-widgets/controls",
      "model_module_version": "1.1.0",
      "model_name": "ProgressStyleModel",
      "state": {
       "description_width": ""
      }
     },
     "b3ae58ce0bce4cd1b678a043b8ce4415": {
      "model_module": "@jupyter-widgets/controls",
      "model_module_version": "1.1.0",
      "model_name": "HBoxModel",
      "state": {
       "children": [
        "IPY_MODEL_54f04d9c381446649b742e1242de6953",
        "IPY_MODEL_e10c6be126a045d9809b90c0880e7362"
       ],
       "layout": "IPY_MODEL_77132b06e4ad40fdabdc0dd93922af21"
      }
     },
     "b4a9636246544cd7a3ebcff56595bea2": {
      "model_module": "@jupyter-widgets/base",
      "model_module_version": "1.0.0",
      "model_name": "LayoutModel",
      "state": {}
     },
     "b4c9fe6ac6f649dc9ed8a077a5eaeb20": {
      "model_module": "@jupyter-widgets/base",
      "model_module_version": "1.0.0",
      "model_name": "LayoutModel",
      "state": {}
     },
     "b52cba9c0daf49aab716b75c91137766": {
      "model_module": "@jupyter-widgets/controls",
      "model_module_version": "1.1.0",
      "model_name": "DescriptionStyleModel",
      "state": {
       "description_width": ""
      }
     },
     "b7e6303bb38542c9a8282079c33beca7": {
      "model_module": "@jupyter-widgets/base",
      "model_module_version": "1.0.0",
      "model_name": "LayoutModel",
      "state": {}
     },
     "ba26964d72134b3aa6095e3102f1531b": {
      "model_module": "@jupyter-widgets/base",
      "model_module_version": "1.0.0",
      "model_name": "LayoutModel",
      "state": {}
     },
     "bc6e6b33b84344f094704454a0cf6f6b": {
      "model_module": "@jupyter-widgets/controls",
      "model_module_version": "1.1.0",
      "model_name": "HTMLModel",
      "state": {
       "layout": "IPY_MODEL_e6337586212341de8a4de0ce6bd25649",
       "style": "IPY_MODEL_7adf432cd98f46df927bf9da9d94b182",
       "value": "100% 6/6 [00:00&lt;00:00, 270.73it/s]"
      }
     },
     "bd8469f87f2d4e789610110acd07571d": {
      "model_module": "@jupyter-widgets/controls",
      "model_module_version": "1.1.0",
      "model_name": "HBoxModel",
      "state": {
       "children": [
        "IPY_MODEL_ed2e720acb7a467c85bd7db465281523",
        "IPY_MODEL_3a1160614abc4724b73cc9bc2e0d0d46"
       ],
       "layout": "IPY_MODEL_37faed3c96f343e895d8f29ab07137c0"
      }
     },
     "c01a6ed0806a4aaaaf580bf56e78398f": {
      "model_module": "@jupyter-widgets/controls",
      "model_module_version": "1.1.0",
      "model_name": "DescriptionStyleModel",
      "state": {
       "description_width": ""
      }
     },
     "c05cfeeac9a04c68a7387dc65bf48227": {
      "model_module": "@jupyter-widgets/controls",
      "model_module_version": "1.1.0",
      "model_name": "HTMLModel",
      "state": {
       "layout": "IPY_MODEL_a7afeac8de60479e8c92248312fde8fc",
       "style": "IPY_MODEL_22952b3bfa674aff898e452b30bd319e",
       "value": "100% 5/5 [00:16&lt;00:00,  3.28s/it]"
      }
     },
     "c09f764cc1c74e3aa75fea864a8d21f3": {
      "model_module": "@jupyter-widgets/controls",
      "model_module_version": "1.1.0",
      "model_name": "HTMLModel",
      "state": {
       "layout": "IPY_MODEL_c80d11f161704ab3bda86e7d1dfaff03",
       "style": "IPY_MODEL_e1df5ccb47594688afaee7c51d9cfeed",
       "value": "100% 6/6 [00:00&lt;00:00, 377.26it/s]"
      }
     },
     "c13bdace91114d639b408aa120c97f79": {
      "model_module": "@jupyter-widgets/controls",
      "model_module_version": "1.1.0",
      "model_name": "ProgressStyleModel",
      "state": {
       "description_width": ""
      }
     },
     "c19f1e5cf61444b5926c89b67c374dc8": {
      "model_module": "@jupyter-widgets/controls",
      "model_module_version": "1.1.0",
      "model_name": "IntProgressModel",
      "state": {
       "bar_style": "success",
       "description": "Epoch",
       "layout": "IPY_MODEL_43f1cb9394c5422798a91c1b6b0a5907",
       "max": 3,
       "style": "IPY_MODEL_aad1581c410d48feb48e6b943c14bdb8",
       "value": 3
      }
     },
     "c28408357da544cd8c8bbd5c7469e541": {
      "model_module": "@jupyter-widgets/controls",
      "model_module_version": "1.1.0",
      "model_name": "HBoxModel",
      "state": {
       "children": [
        "IPY_MODEL_5c13867f02614d49bc038af563f5a5a2",
        "IPY_MODEL_1c509f99160e41d5af6e565b1541e571"
       ],
       "layout": "IPY_MODEL_e41e9dc77ce44f3fad0aee4db429cd7d"
      }
     },
     "c30905e882964682bbe231e445b57833": {
      "model_module": "@jupyter-widgets/controls",
      "model_module_version": "1.1.0",
      "model_name": "HBoxModel",
      "state": {
       "children": [
        "IPY_MODEL_08ba1e10c1a641f7876680a632f6821d",
        "IPY_MODEL_e6f6231f671e4871b9e496cce50bf2b9"
       ],
       "layout": "IPY_MODEL_db256ef0046f46d085353ffba880c8fa"
      }
     },
     "c438be876cfc49e8920f2704c6cddbdc": {
      "model_module": "@jupyter-widgets/controls",
      "model_module_version": "1.1.0",
      "model_name": "HBoxModel",
      "state": {
       "children": [
        "IPY_MODEL_de9c288444e74ea38dbac2ef1b1078e4",
        "IPY_MODEL_fe3c562acb4e432280f6432df0710577"
       ],
       "layout": "IPY_MODEL_ba26964d72134b3aa6095e3102f1531b"
      }
     },
     "c45beabad9d34af5b39ce603b5308ef9": {
      "model_module": "@jupyter-widgets/controls",
      "model_module_version": "1.1.0",
      "model_name": "DescriptionStyleModel",
      "state": {
       "description_width": ""
      }
     },
     "c522ca216e5a49e4a7624f94b7215c52": {
      "model_module": "@jupyter-widgets/controls",
      "model_module_version": "1.1.0",
      "model_name": "HBoxModel",
      "state": {
       "children": [
        "IPY_MODEL_62e8fbf1622b4a36a186e7f319552990",
        "IPY_MODEL_8228413e70844312b5aa3128e3bea3ad"
       ],
       "layout": "IPY_MODEL_cb6af7a441964132bb58e75ef7b4bd19"
      }
     },
     "c6a3a9d502b94ffba6cb6708c9762bd0": {
      "model_module": "@jupyter-widgets/controls",
      "model_module_version": "1.1.0",
      "model_name": "IntProgressModel",
      "state": {
       "bar_style": "success",
       "description": "Epoch",
       "layout": "IPY_MODEL_868f105f38aa47b2b0223680dc202859",
       "max": 2,
       "style": "IPY_MODEL_f4c78df23c774bb290250936916d962e",
       "value": 2
      }
     },
     "c74dedf09f57490a9f1ac9af54e14bf3": {
      "model_module": "@jupyter-widgets/base",
      "model_module_version": "1.0.0",
      "model_name": "LayoutModel",
      "state": {}
     },
     "c80d11f161704ab3bda86e7d1dfaff03": {
      "model_module": "@jupyter-widgets/base",
      "model_module_version": "1.0.0",
      "model_name": "LayoutModel",
      "state": {}
     },
     "c8469a077e5449b69821e6b27b8e74e5": {
      "model_module": "@jupyter-widgets/controls",
      "model_module_version": "1.1.0",
      "model_name": "ProgressStyleModel",
      "state": {
       "description_width": ""
      }
     },
     "c8871c57d7bd4b61a99633668fb44621": {
      "model_module": "@jupyter-widgets/controls",
      "model_module_version": "1.1.0",
      "model_name": "IntProgressModel",
      "state": {
       "bar_style": "success",
       "description": "Epoch",
       "layout": "IPY_MODEL_2d1dfcb285154a7bac2db184a87f3c4e",
       "max": 7,
       "style": "IPY_MODEL_ce4922cb72aa4e5c8b5713e47e49029e",
       "value": 7
      }
     },
     "c8ef187b9a1249018de7378cee824894": {
      "model_module": "@jupyter-widgets/controls",
      "model_module_version": "1.1.0",
      "model_name": "HBoxModel",
      "state": {
       "children": [
        "IPY_MODEL_7b215de0d6b64c3897c22bd817bbcb8d",
        "IPY_MODEL_b1258a718296423d9f4d9c0535aae63b"
       ],
       "layout": "IPY_MODEL_784cd320488247aa87d575558f81d06b"
      }
     },
     "cac9427c464f4db9b71c36da9245c066": {
      "model_module": "@jupyter-widgets/controls",
      "model_module_version": "1.1.0",
      "model_name": "ProgressStyleModel",
      "state": {
       "description_width": ""
      }
     },
     "cb554ddf38bb4597b282655ee74ca321": {
      "model_module": "@jupyter-widgets/base",
      "model_module_version": "1.0.0",
      "model_name": "LayoutModel",
      "state": {}
     },
     "cb6af7a441964132bb58e75ef7b4bd19": {
      "model_module": "@jupyter-widgets/base",
      "model_module_version": "1.0.0",
      "model_name": "LayoutModel",
      "state": {}
     },
     "ce4922cb72aa4e5c8b5713e47e49029e": {
      "model_module": "@jupyter-widgets/controls",
      "model_module_version": "1.1.0",
      "model_name": "ProgressStyleModel",
      "state": {
       "description_width": ""
      }
     },
     "cfeaf84bdbe34c7898e1ea8fc61b539c": {
      "model_module": "@jupyter-widgets/controls",
      "model_module_version": "1.1.0",
      "model_name": "ProgressStyleModel",
      "state": {
       "description_width": ""
      }
     },
     "d2b4db8ba2cb4c859ba3e0041c243193": {
      "model_module": "@jupyter-widgets/controls",
      "model_module_version": "1.1.0",
      "model_name": "HTMLModel",
      "state": {
       "layout": "IPY_MODEL_13cbbf3a554a40f09d40df39c2cacf47",
       "style": "IPY_MODEL_91b150ff417c44d1bc68e66d1b3c5925",
       "value": "100% 7/7 [38:27&lt;00:00, 329.65s/it]"
      }
     },
     "db256ef0046f46d085353ffba880c8fa": {
      "model_module": "@jupyter-widgets/base",
      "model_module_version": "1.0.0",
      "model_name": "LayoutModel",
      "state": {}
     },
     "de9c288444e74ea38dbac2ef1b1078e4": {
      "model_module": "@jupyter-widgets/controls",
      "model_module_version": "1.1.0",
      "model_name": "IntProgressModel",
      "state": {
       "bar_style": "success",
       "description": "Epoch",
       "layout": "IPY_MODEL_0147ea39a83144aa99e7877a908ca502",
       "max": 5,
       "style": "IPY_MODEL_075434e4b0234c5fa61c8d63fec51679",
       "value": 5
      }
     },
     "def3b0d0275c454e95c5c2952fc9d017": {
      "model_module": "@jupyter-widgets/controls",
      "model_module_version": "1.1.0",
      "model_name": "HBoxModel",
      "state": {
       "children": [
        "IPY_MODEL_5f4033806f5144f28e0999110bf34612",
        "IPY_MODEL_61defccfe9dc4330931ce420b9976dcd"
       ],
       "layout": "IPY_MODEL_e22e48eeda32478cbb6bf53babd9e700"
      }
     },
     "e10c6be126a045d9809b90c0880e7362": {
      "model_module": "@jupyter-widgets/controls",
      "model_module_version": "1.1.0",
      "model_name": "HTMLModel",
      "state": {
       "layout": "IPY_MODEL_5791e4167111408ca3f1be2e16334803",
       "style": "IPY_MODEL_c01a6ed0806a4aaaaf580bf56e78398f",
       "value": "100% 2/2 [10:59&lt;00:00, 329.53s/it]"
      }
     },
     "e1df5ccb47594688afaee7c51d9cfeed": {
      "model_module": "@jupyter-widgets/controls",
      "model_module_version": "1.1.0",
      "model_name": "DescriptionStyleModel",
      "state": {
       "description_width": ""
      }
     },
     "e22e48eeda32478cbb6bf53babd9e700": {
      "model_module": "@jupyter-widgets/base",
      "model_module_version": "1.0.0",
      "model_name": "LayoutModel",
      "state": {}
     },
     "e41e9dc77ce44f3fad0aee4db429cd7d": {
      "model_module": "@jupyter-widgets/base",
      "model_module_version": "1.0.0",
      "model_name": "LayoutModel",
      "state": {}
     },
     "e59a2233ae454d81ada1b8494763e7bc": {
      "model_module": "@jupyter-widgets/base",
      "model_module_version": "1.0.0",
      "model_name": "LayoutModel",
      "state": {}
     },
     "e6337586212341de8a4de0ce6bd25649": {
      "model_module": "@jupyter-widgets/base",
      "model_module_version": "1.0.0",
      "model_name": "LayoutModel",
      "state": {}
     },
     "e6926f2efb5340528a00c5045376c380": {
      "model_module": "@jupyter-widgets/base",
      "model_module_version": "1.0.0",
      "model_name": "LayoutModel",
      "state": {}
     },
     "e6f6231f671e4871b9e496cce50bf2b9": {
      "model_module": "@jupyter-widgets/controls",
      "model_module_version": "1.1.0",
      "model_name": "HTMLModel",
      "state": {
       "layout": "IPY_MODEL_4c5e108b0b9145cb9987a673dda89bb6",
       "style": "IPY_MODEL_a19c0f9c5cb34e9e8cdfe5c356084b80",
       "value": "100% 6/6 [00:00&lt;00:00, 42.32it/s]"
      }
     },
     "e77a75b0e9b446318ef399e225003e65": {
      "model_module": "@jupyter-widgets/base",
      "model_module_version": "1.0.0",
      "model_name": "LayoutModel",
      "state": {}
     },
     "ed2e720acb7a467c85bd7db465281523": {
      "model_module": "@jupyter-widgets/controls",
      "model_module_version": "1.1.0",
      "model_name": "IntProgressModel",
      "state": {
       "bar_style": "success",
       "description": "Epoch",
       "layout": "IPY_MODEL_f9852feeb51543e4a0d21c5cd6326380",
       "max": 5,
       "style": "IPY_MODEL_cac9427c464f4db9b71c36da9245c066",
       "value": 5
      }
     },
     "f2cf6963cc204b18921e63e1933ad18b": {
      "model_module": "@jupyter-widgets/controls",
      "model_module_version": "1.1.0",
      "model_name": "HBoxModel",
      "state": {
       "children": [
        "IPY_MODEL_a6cf535c8f30471e947503cae6bdb611",
        "IPY_MODEL_d2b4db8ba2cb4c859ba3e0041c243193"
       ],
       "layout": "IPY_MODEL_b4c9fe6ac6f649dc9ed8a077a5eaeb20"
      }
     },
     "f38f8ae81eca43f9b1828369ebffd849": {
      "model_module": "@jupyter-widgets/controls",
      "model_module_version": "1.1.0",
      "model_name": "ProgressStyleModel",
      "state": {
       "description_width": ""
      }
     },
     "f4c78df23c774bb290250936916d962e": {
      "model_module": "@jupyter-widgets/controls",
      "model_module_version": "1.1.0",
      "model_name": "ProgressStyleModel",
      "state": {
       "description_width": ""
      }
     },
     "f6539e378c294a6c955da278da4ade4e": {
      "model_module": "@jupyter-widgets/base",
      "model_module_version": "1.0.0",
      "model_name": "LayoutModel",
      "state": {}
     },
     "f9852feeb51543e4a0d21c5cd6326380": {
      "model_module": "@jupyter-widgets/base",
      "model_module_version": "1.0.0",
      "model_name": "LayoutModel",
      "state": {}
     },
     "fa7fbd7aa5ab41a5aaabfca1db46058e": {
      "model_module": "@jupyter-widgets/controls",
      "model_module_version": "1.1.0",
      "model_name": "DescriptionStyleModel",
      "state": {
       "description_width": ""
      }
     },
     "fe3c562acb4e432280f6432df0710577": {
      "model_module": "@jupyter-widgets/controls",
      "model_module_version": "1.1.0",
      "model_name": "HTMLModel",
      "state": {
       "layout": "IPY_MODEL_a6ba13af33984f1b96ed120d3798b035",
       "style": "IPY_MODEL_39d7df82d70b40df9f1171dad9ce2b4c",
       "value": "100% 5/5 [25:26&lt;00:00, 305.38s/it]"
      }
     }
    },
    "version_major": 2,
    "version_minor": 0
   }
  }
 },
 "nbformat": 4,
 "nbformat_minor": 2
}
