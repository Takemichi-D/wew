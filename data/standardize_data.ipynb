{
 "cells": [
  {
   "cell_type": "code",
   "execution_count": 1,
   "metadata": {},
   "outputs": [],
   "source": [
    "from rdkit import Chem\n",
    "from rdkit.Chem import Draw\n",
    "import os\n",
    "import glob\n",
    "import numpy as np\n",
    "import pandas as pd\n",
    "import PIL\n",
    "from random import sample\n",
    "import csv\n",
    "import pubchempy as pcp\n",
    "import matplotlib.pyplot as plt\n",
    "import bokeh\n",
    "from itertools import chain\n",
    "%matplotlib inline\n",
    "from rdkit.Chem.SaltRemover import SaltRemover"
   ]
  },
  {
   "cell_type": "markdown",
   "metadata": {},
   "source": [
    "# read pubchem CIDs from files"
   ]
  },
  {
   "cell_type": "code",
   "execution_count": 3,
   "metadata": {},
   "outputs": [],
   "source": [
    "os.chdir(\"/home/jgmeyer2/drugclass/data/fromPubChem\")"
   ]
  },
  {
   "cell_type": "code",
   "execution_count": 4,
   "metadata": {},
   "outputs": [
    {
     "name": "stdout",
     "output_type": "stream",
     "text": [
      "['gastrointestinal.txt', 'dermatologic.txt', 'urological.txt', 'cns.txt', 'antiinfective.txt', 'antineoplastic.txt', 'reproductivecontrol.txt', 'lipidregulating.txt', 'hematologic.txt', 'respiratorysystem.txt', 'cardio.txt', 'antiinflammatory.txt']\n",
      "662\n",
      "134715169\n"
     ]
    }
   ],
   "source": [
    "tables_list=glob.glob(\"*txt\")\n",
    "print(tables_list)\n",
    "CID_dict = {}\n",
    "cidslist = []\n",
    "for table in tables_list:\n",
    "    tableID = table.replace('.txt','')\n",
    "    tableID = tableID.replace('../data/','')\n",
    "    CID_dict[tableID] = []\n",
    "    with open(table) as inf:\n",
    "        for aline in inf.readlines():\n",
    "            if aline.startswith('CID')==True:\n",
    "                #cid = aline.replace('\\n')\n",
    "                CID_dict[tableID].append(aline.replace('\\n','').replace('CID: ',''))\n",
    "                \n",
    "\n",
    "print(len(CID_dict[tableID]))\n",
    "CID_dict.keys()\n",
    "print(CID_dict[tableID][0])"
   ]
  },
  {
   "cell_type": "markdown",
   "metadata": {},
   "source": [
    "# get SMILES for CIDs"
   ]
  },
  {
   "cell_type": "markdown",
   "metadata": {},
   "source": [
    "### keep things with smiles length <400"
   ]
  },
  {
   "cell_type": "code",
   "execution_count": 5,
   "metadata": {},
   "outputs": [
    {
     "name": "stdout",
     "output_type": "stream",
     "text": [
      "C1=CC(=C(C=C1C2C(C(=O)C3=C(C=C(C=C3O2)O)O)O)O)O\n",
      "656\n"
     ]
    }
   ],
   "source": [
    "smiles_dict = {}\n",
    "\n",
    "for key in CID_dict.keys():\n",
    "    smiles_dict[key] = []\n",
    "    prop_dict = pcp.get_properties('IsomericSMILES', CID_dict[key])\n",
    "    for i in range(0, len(prop_dict)):\n",
    "        if len(prop_dict[i]['IsomericSMILES'])<400:  #### only those under 200 char\n",
    "            smiles_dict[key].append(prop_dict[i]['IsomericSMILES'])\n",
    "\n",
    "                \n",
    "print(prop_dict[i][\"IsomericSMILES\"])\n",
    "print(len(smiles_dict[key]))"
   ]
  },
  {
   "cell_type": "code",
   "execution_count": 6,
   "metadata": {},
   "outputs": [
    {
     "name": "stdout",
     "output_type": "stream",
     "text": [
      "619\n",
      "257\n",
      "73\n",
      "2025\n",
      "3367\n",
      "1868\n",
      "264\n",
      "228\n",
      "540\n",
      "396\n",
      "1636\n",
      "656\n",
      "11929\n"
     ]
    }
   ],
   "source": [
    "total=0\n",
    "for key in CID_dict.keys():\n",
    "    total+=len(smiles_dict[key])\n",
    "    print(len(smiles_dict[key]))\n",
    "print(total)"
   ]
  },
  {
   "cell_type": "markdown",
   "metadata": {},
   "source": [
    "## do any overlap?\n"
   ]
  },
  {
   "cell_type": "markdown",
   "metadata": {},
   "source": [
    "### make master list of all smiles that overlap among the sets"
   ]
  },
  {
   "cell_type": "code",
   "execution_count": null,
   "metadata": {
    "scrolled": true
   },
   "outputs": [],
   "source": [
    "rm = []\n",
    "for key1 in smiles_dict.keys():\n",
    "    print(key1+ '__________MAIN_len='+str(len(set(smiles_dict[key1]))))\n",
    "    for key2 in smiles_dict.keys(): ### loop through the keys and check for overlap\n",
    "        if key1 != key2: ### first key cannot equal second key\n",
    "            rm.append(list(set(smiles_dict[key1]) & set(smiles_dict[key2])))\n",
    "            print(str(key2)+'_'+str(len(list(set(smiles_dict[key1]) & set(smiles_dict[key2])))))"
   ]
  },
  {
   "cell_type": "markdown",
   "metadata": {},
   "source": [
    "### Remove those and check there is no longer overlap"
   ]
  },
  {
   "cell_type": "code",
   "execution_count": 10,
   "metadata": {},
   "outputs": [
    {
     "name": "stdout",
     "output_type": "stream",
     "text": [
      "gastrointestinal__________NEW_len=321\n",
      "gastrointestinal__________OLD_len=616\n",
      "dermatologic__________NEW_len=134\n",
      "dermatologic__________OLD_len=253\n",
      "urological__________NEW_len=49\n",
      "urological__________OLD_len=73\n",
      "cns__________NEW_len=1501\n",
      "cns__________OLD_len=2023\n",
      "antiinfective__________NEW_len=2790\n",
      "antiinfective__________OLD_len=3364\n",
      "antineoplastic__________NEW_len=1326\n",
      "antineoplastic__________OLD_len=1859\n",
      "reproductivecontrol__________NEW_len=165\n",
      "reproductivecontrol__________OLD_len=264\n",
      "lipidregulating__________NEW_len=176\n",
      "lipidregulating__________OLD_len=225\n",
      "hematologic__________NEW_len=315\n",
      "hematologic__________OLD_len=535\n",
      "respiratorysystem__________NEW_len=144\n",
      "respiratorysystem__________OLD_len=396\n",
      "cardio__________NEW_len=1039\n",
      "cardio__________OLD_len=1635\n",
      "antiinflammatory__________NEW_len=412\n",
      "antiinflammatory__________OLD_len=652\n"
     ]
    }
   ],
   "source": [
    "nsmilesd = {}\n",
    "for key in smiles_dict.keys():\n",
    "    nsmilesd[key] = list(set(smiles_dict[key])-set(rm))\n",
    "    print(key+ '__________NEW_len='+str(len(nsmilesd[key])))\n",
    "    print(key+ '__________OLD_len='+str(len(set(smiles_dict[key]))))\n",
    "    "
   ]
  },
  {
   "cell_type": "markdown",
   "metadata": {},
   "source": [
    "### check they overlap is gone"
   ]
  },
  {
   "cell_type": "code",
   "execution_count": null,
   "metadata": {},
   "outputs": [],
   "source": [
    "for key1 in nsmilesd.keys():\n",
    "    rm2 = []\n",
    "    print(key1+ '__________MAIN_len='+str(len(nsmilesd[key1])))\n",
    "    for key2 in nsmilesd.keys(): ### loop through the keys and check for overlap\n",
    "        if key1 != key2: ### first key cannot equal second key\n",
    "            rm2.append(list(set(nsmilesd[key1]) & set(nsmilesd[key2])))\n",
    "            print(str(key2)+'_'+str(len(list(set(nsmilesd[key1]) & set(nsmilesd[key2])))))"
   ]
  },
  {
   "cell_type": "code",
   "execution_count": 12,
   "metadata": {
    "scrolled": true
   },
   "outputs": [
    {
     "data": {
      "image/png": "[encoded data removed]",
      "text/plain": [
       "<Figure size 720x1440 with 12 Axes>"
      ]
     },
     "metadata": {
      "needs_background": "light"
     },
     "output_type": "display_data"
    }
   ],
   "source": [
    "smiles_dict = nsmilesd\n",
    "fig, axs = plt.subplots(ncols=2, figsize=(10, 20),nrows=6, sharex ='col')\n",
    "k = 0\n",
    "keys = list(smiles_dict.keys())\n",
    "\n",
    "for i in range(6):\n",
    "    for j in range(2):\n",
    "        smileslens = [len(i) for i in smiles_dict[keys[k]]]\n",
    "        axs[i, j].hist(smileslens,bins=50)\n",
    "        axs[i,j].set_title(str(keys[k]).format(i+1))\n",
    "        k +=1"
   ]
  },
  {
   "cell_type": "markdown",
   "metadata": {},
   "source": [
    "# Remove salts"
   ]
  },
  {
   "cell_type": "code",
   "execution_count": 13,
   "metadata": {},
   "outputs": [],
   "source": [
    "os.chdir('/home/jgmeyer2/drugclass/data/SMILES/')"
   ]
  },
  {
   "cell_type": "code",
   "execution_count": 14,
   "metadata": {
    "scrolled": true
   },
   "outputs": [],
   "source": [
    "remover = SaltRemover()\n",
    "cln_smiles_dict = {}\n",
    "\n",
    "for key in smiles_dict.keys():\n",
    "    tmplist = []\n",
    "    for smiles in smiles_dict[key]:\n",
    "        tmplist.append(Chem.MolToSmiles(remover(Chem.MolFromSmiles(smiles))))\n",
    "    cln_smiles_dict[key] = list(set(tmplist))"
   ]
  },
  {
   "cell_type": "code",
   "execution_count": 17,
   "metadata": {},
   "outputs": [
    {
     "data": {
      "text/plain": [
       "['Cc1ccc(O)c([C@H](CCN(C(C)C)C(C)C)c2ccccc2)c1',\n",
       " 'O=C(O[C@@H]1CN2CCC1CC2)N1CCc2ccccc2[C@H]1c1ccccc1',\n",
       " 'CCCOC(C(=O)OC1CCN(C)CC1)(c1ccccc1)c1ccccc1',\n",
       " 'CCN(CC)CC#CCOC(=O)C(O)(c1ccccc1)C1CCCCC1',\n",
       " 'CC[N+](C)(C)C(C)CC(c1ccccc1)c1ccccc1',\n",
       " 'COC(=O)[C@H]1[C@@H](O)CC[C@H]2CN3CCc4c([nH]c5ccccc45)[C@@H]3C[C@@H]21',\n",
       " 'CC(C)(C)NC(=O)[C@H]1CC[C@H]2[C@@H]3CC[C@H]4NC(=O)C=C[C@]4(C)[C@H]3CC[C@]12C',\n",
       " 'O=C(OC1CN2CCC1CC2)N1CCc2ccccc2[C@H]1c1ccccc1',\n",
       " 'CC(C)C(=O)Oc1ccc(CO)cc1[C@H](CCN(C(C)C)C(C)C)c1ccccc1',\n",
       " 'COC(=O)C1C(O)CCC2CN3CCc4c([nH]c5ccccc45)C3CC21',\n",
       " 'CCOc1ccccc1OCCNC(C)Cc1ccc(OC)c(S(N)(=O)=O)c1',\n",
       " 'NC(=O)C(c1ccccc1)(c1ccccc1)[C@@H]1CCN(CCc2ccc3c(c2)CCO3)C1',\n",
       " 'COC(=O)[C@@H]1[C@@H](O)CC[C@H]2CN3CCc4c([nH]c5ccccc45)[C@@H]3C[C@H]12',\n",
       " 'CCOc1ccccc1OCCN[C@H](C)Cc1ccc(OC)c(S(N)(=O)=O)c1',\n",
       " 'COC(=O)[C@@H]1[C@@H](O)CC[C@@H]2CN3CCc4c([nH]c5ccccc45)[C@@H]3C[C@@H]21',\n",
       " 'O=CC#CC#CO',\n",
       " 'O=C(O[C@H]1CN2CCC1CC2)N1CCc2ccccc2[C@@H]1c1ccccc1',\n",
       " 'C[C@H](Cc1cc2c(c(C(N)=O)c1)N(CCCO)CC2)NCCOc1ccccc1OCC(F)(F)F',\n",
       " 'Nc1nc(CC(=O)Nc2ccc(CCNC[C@H](O)c3ccccc3)cc2)cs1',\n",
       " 'O=C(OC1CN2CCC1CC2)N1CCc2ccccc2[C@@H]1c1ccccc1',\n",
       " 'COc1cc2nc(N3CCN(C(=O)C4CCCO4)CC3)nc(N)c2cc1OC',\n",
       " 'COc1cc2nc(N(C)CCCNC(=O)C3CCCO3)nc(N)c2cc1OC',\n",
       " 'O=C(OCc1ccccc1)C(O)c1ccccc1',\n",
       " 'O=C(OC1CN2CCC1CC2)N1CCc2ccccc2C1c1ccccc1',\n",
       " 'O=C(OC1C[C@@H]2CC[C@H](C1)[N+]21CCCC1)C(O)(c1ccccc1)c1ccccc1',\n",
       " 'Cc1c(-c2ccccc2)oc2c(C(=O)OCCN3CCCCC3)cccc2c1=O']"
      ]
     },
     "execution_count": 17,
     "metadata": {},
     "output_type": "execute_result"
    }
   ],
   "source": [
    "cln_smiles_dict['urological']"
   ]
  },
  {
   "cell_type": "code",
   "execution_count": 15,
   "metadata": {},
   "outputs": [
    {
     "data": {
      "image/png": "[encoded data removed]",
      "text/plain": [
       "<PIL.Image.Image image mode=RGB size=300x300 at 0x7F5C68C83470>"
      ]
     },
     "execution_count": 15,
     "metadata": {},
     "output_type": "execute_result"
    }
   ],
   "source": [
    "Chem.Draw.MolToImage(Chem.MolFromSmiles('Cc1noc(NS(=O)(=O)c2ccc(N)cc2)c1C.OCCNCCO'))"
   ]
  },
  {
   "cell_type": "markdown",
   "metadata": {},
   "source": [
    "# write smiles without salts"
   ]
  },
  {
   "cell_type": "code",
   "execution_count": 19,
   "metadata": {},
   "outputs": [],
   "source": [
    "for key in cln_smiles_dict.keys():\n",
    "    with open(key+\"_smiles_rmsaltol.csv\",\"w\") as outfile:\n",
    "        for smiles in cln_smiles_dict[key]:\n",
    "            outfile.write(smiles + '\\n')"
   ]
  },
  {
   "cell_type": "markdown",
   "metadata": {},
   "source": [
    "# make PNGs of SMILES"
   ]
  },
  {
   "cell_type": "code",
   "execution_count": 48,
   "metadata": {},
   "outputs": [],
   "source": [
    "# write the files in order from the SMILES dictionary\n",
    "PATH = '/home/jgmeyer2/drugclass/Networks/data_rmsalt_rmol_grey/pics/'\n",
    "for key in cln_smiles_dict.keys():\n",
    "    n = 0\n",
    "    os.makedirs(PATH+str(key).strip('.'), exist_ok=True)\n",
    "    for smiles in cln_smiles_dict[key]:\n",
    "        Draw.MolToFile(Chem.MolFromSmiles(str(smiles)), fileName=PATH+str(key)+'/'+str(n)+'.png', size=(500, 500), kekulize=True, wedgeBonds=True, imageType=\"png\")\n",
    "        n +=1"
   ]
  },
  {
   "cell_type": "markdown",
   "metadata": {},
   "source": [
    "### use same dictionary to write classes file"
   ]
  },
  {
   "cell_type": "code",
   "execution_count": 58,
   "metadata": {},
   "outputs": [],
   "source": [
    "### make clases file with pngpath, class, and smiles\n",
    "### same order as done for the image generation so the picture naming matches this class/path file\n",
    "master_pngpath = []\n",
    "master_class = []\n",
    "master_smiles = []\n",
    "\n",
    "for key in cln_smiles_dict.keys():\n",
    "    n = 0\n",
    "    for smiles in cln_smiles_dict[key]:\n",
    "        master_pngpath.append(key +'/' + str(n))\n",
    "        master_class.append(key)\n",
    "        master_smiles.append(smiles)\n",
    "        n +=1"
   ]
  },
  {
   "cell_type": "markdown",
   "metadata": {},
   "source": [
    "# make .csv with 2 columns, id and class"
   ]
  },
  {
   "cell_type": "code",
   "execution_count": 68,
   "metadata": {},
   "outputs": [],
   "source": [
    "rows = zip(master_pngpath, master_class, master_smiles)"
   ]
  },
  {
   "cell_type": "code",
   "execution_count": 69,
   "metadata": {},
   "outputs": [],
   "source": [
    "import csv\n",
    "\n",
    "with open('12cls_rmsaltol.csv', \"w\") as f:\n",
    "    writer = csv.writer(f)\n",
    "    for row in rows:\n",
    "        writer.writerow(row)"
   ]
  },
  {
   "cell_type": "markdown",
   "metadata": {},
   "source": [
    "#### Then remove classes manually in excel and create new files with 5-class and 3-class subsets"
   ]
  },
  {
   "cell_type": "markdown",
   "metadata": {},
   "source": [
    "### make .csv files with indexes of validation"
   ]
  },
  {
   "cell_type": "code",
   "execution_count": 72,
   "metadata": {},
   "outputs": [],
   "source": [
    "from itertools import chain\n",
    "import pandas as pd\n",
    "import os\n",
    "import random"
   ]
  },
  {
   "cell_type": "code",
   "execution_count": 74,
   "metadata": {},
   "outputs": [],
   "source": [
    "#### get 20% randomly from each class\n",
    "def get_val_cv_byclass(label_csv):\n",
    "    label_df = pd.read_csv(label_csv)\n",
    "    val_idxs = []\n",
    "    for x in label_df['class'].unique(): \n",
    "        start= label_df.index[label_df['class'] == x].tolist()[0]\n",
    "        end = start+len(label_df.index[label_df['class'] == x].tolist())-1\n",
    "        n_sample = int(round((end-start)*0.2,0))\n",
    "        val_idxs.append(random.sample(range(start,end),n_sample))\n",
    "    val_idxs = list(chain.from_iterable(val_idxs))\n",
    "    return val_idxs"
   ]
  },
  {
   "cell_type": "code",
   "execution_count": 1,
   "metadata": {},
   "outputs": [],
   "source": [
    "#### do the above function multiple times and write several validation sets\n",
    "def write_val_index(label_csv, groupname,n_cvidx):\n",
    "    for i in range(n_cvidx):\n",
    "        with open(groupname+'_val_ids'+str(i)+'.csv',  'w') as outfile:\n",
    "            val_id = get_val_cv_byclass(label_csv)\n",
    "            for vid in val_id:\n",
    "                outfile.write(str(vid)+'\\n')"
   ]
  },
  {
   "cell_type": "code",
   "execution_count": null,
   "metadata": {},
   "outputs": [],
   "source": [
    "### go to the directory with the label/class csv files\n",
    "os.chdir('/home/jgmeyer2/drugclass/Networks/data_rmsalt_rmol/pics/')"
   ]
  },
  {
   "cell_type": "code",
   "execution_count": 78,
   "metadata": {},
   "outputs": [],
   "source": [
    "### run write_val_index 5 times to get the 5 classes\n",
    "random.seed(2148944145)\n",
    "\n",
    "#### 3 class data\n",
    "label_csv = '3cls_rmsaltol.csv'\n",
    "groupname = '3cls'\n",
    "write_val_index(label_csv, groupname,5)\n",
    "\n",
    "random.seed(21424345)\n",
    "\n",
    "#### 5 class data\n",
    "label_csv = '5cls_rmsaltol.csv'\n",
    "groupname = '5cls'\n",
    "write_val_index(label_csv, groupname,5)\n",
    "\n",
    "random.seed(253345)\n",
    "\n",
    "#### 12 class data\n",
    "label_csv = '12cls_rmsaltol.csv'\n",
    "groupname = '12cls'\n",
    "write_val_index(label_csv, groupname,5)"
   ]
  }
 ],
 "metadata": {
  "kernelspec": {
   "display_name": "fastaiold",
   "language": "python",
   "name": "fastai"
  },
  "language_info": {
   "codemirror_mode": {
    "name": "ipython",
    "version": 3
   },
   "file_extension": ".py",
   "mimetype": "text/x-python",
   "name": "python",
   "nbconvert_exporter": "python",
   "pygments_lexer": "ipython3",
   "version": "3.6.6"
  }
 },
 "nbformat": 4,
 "nbformat_minor": 2
}
